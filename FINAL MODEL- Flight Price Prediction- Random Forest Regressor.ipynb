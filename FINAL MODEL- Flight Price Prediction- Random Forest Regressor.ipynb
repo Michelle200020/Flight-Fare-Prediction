{
 "cells": [
  {
   "cell_type": "markdown",
   "id": "8b0bcec9",
   "metadata": {
    "id": "8b0bcec9"
   },
   "source": [
    "# Business Problem"
   ]
  },
  {
   "cell_type": "markdown",
   "id": "4ba87205",
   "metadata": {
    "id": "4ba87205"
   },
   "source": [
    "### To create a model that will predict the flight fare prices based on given features. This is a regression task since our goal is to predict a continous variable which in this case is flight price."
   ]
  },
  {
   "cell_type": "markdown",
   "id": "c83e73ac",
   "metadata": {
    "id": "c83e73ac"
   },
   "source": [
    "# Importing The Libraries and DataSet"
   ]
  },
  {
   "cell_type": "code",
   "execution_count": null,
   "id": "db3b9a72",
   "metadata": {
    "id": "db3b9a72"
   },
   "outputs": [],
   "source": [
    "import pandas as pd\n",
    "import numpy as np\n",
    "import matplotlib.pyplot as plt\n",
    "import seaborn as sns\n",
    "import datetime as dt\n",
    "%matplotlib inline\n"
   ]
  },
  {
   "cell_type": "code",
   "execution_count": null,
   "id": "c32cebef",
   "metadata": {
    "id": "c32cebef"
   },
   "outputs": [],
   "source": [
    "data = pd.read_excel(\"Flight_Fare.xlsx\")\n"
   ]
  },
  {
   "cell_type": "markdown",
   "id": "dff57926",
   "metadata": {
    "id": "dff57926"
   },
   "source": [
    "# Basic Checks"
   ]
  },
  {
   "cell_type": "code",
   "execution_count": null,
   "id": "506983c2",
   "metadata": {
    "id": "506983c2",
    "outputId": "a3ff3581-27a7-4a14-9dec-60a608f48ec9",
    "scrolled": true
   },
   "outputs": [
    {
     "data": {
      "text/html": [
       "<div>\n",
       "<style scoped>\n",
       "    .dataframe tbody tr th:only-of-type {\n",
       "        vertical-align: middle;\n",
       "    }\n",
       "\n",
       "    .dataframe tbody tr th {\n",
       "        vertical-align: top;\n",
       "    }\n",
       "\n",
       "    .dataframe thead th {\n",
       "        text-align: right;\n",
       "    }\n",
       "</style>\n",
       "<table border=\"1\" class=\"dataframe\">\n",
       "  <thead>\n",
       "    <tr style=\"text-align: right;\">\n",
       "      <th></th>\n",
       "      <th>Airline</th>\n",
       "      <th>Date_of_Journey</th>\n",
       "      <th>Source</th>\n",
       "      <th>Destination</th>\n",
       "      <th>Route</th>\n",
       "      <th>Dep_Time</th>\n",
       "      <th>Arrival_Time</th>\n",
       "      <th>Duration</th>\n",
       "      <th>Total_Stops</th>\n",
       "      <th>Additional_Info</th>\n",
       "      <th>Price</th>\n",
       "    </tr>\n",
       "  </thead>\n",
       "  <tbody>\n",
       "    <tr>\n",
       "      <th>0</th>\n",
       "      <td>IndiGo</td>\n",
       "      <td>24/03/2019</td>\n",
       "      <td>Banglore</td>\n",
       "      <td>New Delhi</td>\n",
       "      <td>BLR → DEL</td>\n",
       "      <td>22:20</td>\n",
       "      <td>01:10 22 Mar</td>\n",
       "      <td>2h 50m</td>\n",
       "      <td>non-stop</td>\n",
       "      <td>No info</td>\n",
       "      <td>3897</td>\n",
       "    </tr>\n",
       "    <tr>\n",
       "      <th>1</th>\n",
       "      <td>Air India</td>\n",
       "      <td>1/05/2019</td>\n",
       "      <td>Kolkata</td>\n",
       "      <td>Banglore</td>\n",
       "      <td>CCU → IXR → BBI → BLR</td>\n",
       "      <td>05:50</td>\n",
       "      <td>13:15</td>\n",
       "      <td>7h 25m</td>\n",
       "      <td>2 stops</td>\n",
       "      <td>No info</td>\n",
       "      <td>7662</td>\n",
       "    </tr>\n",
       "    <tr>\n",
       "      <th>2</th>\n",
       "      <td>Jet Airways</td>\n",
       "      <td>9/06/2019</td>\n",
       "      <td>Delhi</td>\n",
       "      <td>Cochin</td>\n",
       "      <td>DEL → LKO → BOM → COK</td>\n",
       "      <td>09:25</td>\n",
       "      <td>04:25 10 Jun</td>\n",
       "      <td>19h</td>\n",
       "      <td>2 stops</td>\n",
       "      <td>No info</td>\n",
       "      <td>13882</td>\n",
       "    </tr>\n",
       "    <tr>\n",
       "      <th>3</th>\n",
       "      <td>IndiGo</td>\n",
       "      <td>12/05/2019</td>\n",
       "      <td>Kolkata</td>\n",
       "      <td>Banglore</td>\n",
       "      <td>CCU → NAG → BLR</td>\n",
       "      <td>18:05</td>\n",
       "      <td>23:30</td>\n",
       "      <td>5h 25m</td>\n",
       "      <td>1 stop</td>\n",
       "      <td>No info</td>\n",
       "      <td>6218</td>\n",
       "    </tr>\n",
       "    <tr>\n",
       "      <th>4</th>\n",
       "      <td>IndiGo</td>\n",
       "      <td>01/03/2019</td>\n",
       "      <td>Banglore</td>\n",
       "      <td>New Delhi</td>\n",
       "      <td>BLR → NAG → DEL</td>\n",
       "      <td>16:50</td>\n",
       "      <td>21:35</td>\n",
       "      <td>4h 45m</td>\n",
       "      <td>1 stop</td>\n",
       "      <td>No info</td>\n",
       "      <td>13302</td>\n",
       "    </tr>\n",
       "  </tbody>\n",
       "</table>\n",
       "</div>"
      ],
      "text/plain": [
       "       Airline Date_of_Journey    Source Destination                  Route  \\\n",
       "0       IndiGo      24/03/2019  Banglore   New Delhi              BLR → DEL   \n",
       "1    Air India       1/05/2019   Kolkata    Banglore  CCU → IXR → BBI → BLR   \n",
       "2  Jet Airways       9/06/2019     Delhi      Cochin  DEL → LKO → BOM → COK   \n",
       "3       IndiGo      12/05/2019   Kolkata    Banglore        CCU → NAG → BLR   \n",
       "4       IndiGo      01/03/2019  Banglore   New Delhi        BLR → NAG → DEL   \n",
       "\n",
       "  Dep_Time  Arrival_Time Duration Total_Stops Additional_Info  Price  \n",
       "0    22:20  01:10 22 Mar   2h 50m    non-stop         No info   3897  \n",
       "1    05:50         13:15   7h 25m     2 stops         No info   7662  \n",
       "2    09:25  04:25 10 Jun      19h     2 stops         No info  13882  \n",
       "3    18:05         23:30   5h 25m      1 stop         No info   6218  \n",
       "4    16:50         21:35   4h 45m      1 stop         No info  13302  "
      ]
     },
     "execution_count": 4,
     "metadata": {},
     "output_type": "execute_result"
    }
   ],
   "source": [
    "data.head()"
   ]
  },
  {
   "cell_type": "markdown",
   "id": "e5397c8c",
   "metadata": {
    "id": "e5397c8c"
   },
   "source": [
    "The dataset contains time and date features  which needs to be handled since regular encoding strategies will not work. "
   ]
  },
  {
   "cell_type": "code",
   "execution_count": null,
   "id": "16833232",
   "metadata": {
    "id": "16833232",
    "outputId": "3ab255ba-74e7-4fb8-e688-32d046623783"
   },
   "outputs": [
    {
     "data": {
      "text/html": [
       "<div>\n",
       "<style scoped>\n",
       "    .dataframe tbody tr th:only-of-type {\n",
       "        vertical-align: middle;\n",
       "    }\n",
       "\n",
       "    .dataframe tbody tr th {\n",
       "        vertical-align: top;\n",
       "    }\n",
       "\n",
       "    .dataframe thead th {\n",
       "        text-align: right;\n",
       "    }\n",
       "</style>\n",
       "<table border=\"1\" class=\"dataframe\">\n",
       "  <thead>\n",
       "    <tr style=\"text-align: right;\">\n",
       "      <th></th>\n",
       "      <th>Airline</th>\n",
       "      <th>Date_of_Journey</th>\n",
       "      <th>Source</th>\n",
       "      <th>Destination</th>\n",
       "      <th>Route</th>\n",
       "      <th>Dep_Time</th>\n",
       "      <th>Arrival_Time</th>\n",
       "      <th>Duration</th>\n",
       "      <th>Total_Stops</th>\n",
       "      <th>Additional_Info</th>\n",
       "      <th>Price</th>\n",
       "    </tr>\n",
       "  </thead>\n",
       "  <tbody>\n",
       "    <tr>\n",
       "      <th>10678</th>\n",
       "      <td>Air Asia</td>\n",
       "      <td>9/04/2019</td>\n",
       "      <td>Kolkata</td>\n",
       "      <td>Banglore</td>\n",
       "      <td>CCU → BLR</td>\n",
       "      <td>19:55</td>\n",
       "      <td>22:25</td>\n",
       "      <td>2h 30m</td>\n",
       "      <td>non-stop</td>\n",
       "      <td>No info</td>\n",
       "      <td>4107</td>\n",
       "    </tr>\n",
       "    <tr>\n",
       "      <th>10679</th>\n",
       "      <td>Air India</td>\n",
       "      <td>27/04/2019</td>\n",
       "      <td>Kolkata</td>\n",
       "      <td>Banglore</td>\n",
       "      <td>CCU → BLR</td>\n",
       "      <td>20:45</td>\n",
       "      <td>23:20</td>\n",
       "      <td>2h 35m</td>\n",
       "      <td>non-stop</td>\n",
       "      <td>No info</td>\n",
       "      <td>4145</td>\n",
       "    </tr>\n",
       "    <tr>\n",
       "      <th>10680</th>\n",
       "      <td>Jet Airways</td>\n",
       "      <td>27/04/2019</td>\n",
       "      <td>Banglore</td>\n",
       "      <td>Delhi</td>\n",
       "      <td>BLR → DEL</td>\n",
       "      <td>08:20</td>\n",
       "      <td>11:20</td>\n",
       "      <td>3h</td>\n",
       "      <td>non-stop</td>\n",
       "      <td>No info</td>\n",
       "      <td>7229</td>\n",
       "    </tr>\n",
       "    <tr>\n",
       "      <th>10681</th>\n",
       "      <td>Vistara</td>\n",
       "      <td>01/03/2019</td>\n",
       "      <td>Banglore</td>\n",
       "      <td>New Delhi</td>\n",
       "      <td>BLR → DEL</td>\n",
       "      <td>11:30</td>\n",
       "      <td>14:10</td>\n",
       "      <td>2h 40m</td>\n",
       "      <td>non-stop</td>\n",
       "      <td>No info</td>\n",
       "      <td>12648</td>\n",
       "    </tr>\n",
       "    <tr>\n",
       "      <th>10682</th>\n",
       "      <td>Air India</td>\n",
       "      <td>9/05/2019</td>\n",
       "      <td>Delhi</td>\n",
       "      <td>Cochin</td>\n",
       "      <td>DEL → GOI → BOM → COK</td>\n",
       "      <td>10:55</td>\n",
       "      <td>19:15</td>\n",
       "      <td>8h 20m</td>\n",
       "      <td>2 stops</td>\n",
       "      <td>No info</td>\n",
       "      <td>11753</td>\n",
       "    </tr>\n",
       "  </tbody>\n",
       "</table>\n",
       "</div>"
      ],
      "text/plain": [
       "           Airline Date_of_Journey    Source Destination  \\\n",
       "10678     Air Asia       9/04/2019   Kolkata    Banglore   \n",
       "10679    Air India      27/04/2019   Kolkata    Banglore   \n",
       "10680  Jet Airways      27/04/2019  Banglore       Delhi   \n",
       "10681      Vistara      01/03/2019  Banglore   New Delhi   \n",
       "10682    Air India       9/05/2019     Delhi      Cochin   \n",
       "\n",
       "                       Route Dep_Time Arrival_Time Duration Total_Stops  \\\n",
       "10678              CCU → BLR    19:55        22:25   2h 30m    non-stop   \n",
       "10679              CCU → BLR    20:45        23:20   2h 35m    non-stop   \n",
       "10680              BLR → DEL    08:20        11:20       3h    non-stop   \n",
       "10681              BLR → DEL    11:30        14:10   2h 40m    non-stop   \n",
       "10682  DEL → GOI → BOM → COK    10:55        19:15   8h 20m     2 stops   \n",
       "\n",
       "      Additional_Info  Price  \n",
       "10678         No info   4107  \n",
       "10679         No info   4145  \n",
       "10680         No info   7229  \n",
       "10681         No info  12648  \n",
       "10682         No info  11753  "
      ]
     },
     "execution_count": 6,
     "metadata": {},
     "output_type": "execute_result"
    }
   ],
   "source": [
    "data.tail()"
   ]
  },
  {
   "cell_type": "code",
   "execution_count": null,
   "id": "880cad53",
   "metadata": {
    "id": "880cad53",
    "outputId": "cd97869b-2726-4fd5-ed7c-1066b51d0a62"
   },
   "outputs": [
    {
     "name": "stdout",
     "output_type": "stream",
     "text": [
      "<class 'pandas.core.frame.DataFrame'>\n",
      "RangeIndex: 10683 entries, 0 to 10682\n",
      "Data columns (total 11 columns):\n",
      " #   Column           Non-Null Count  Dtype \n",
      "---  ------           --------------  ----- \n",
      " 0   Airline          10683 non-null  object\n",
      " 1   Date_of_Journey  10683 non-null  object\n",
      " 2   Source           10683 non-null  object\n",
      " 3   Destination      10683 non-null  object\n",
      " 4   Route            10682 non-null  object\n",
      " 5   Dep_Time         10683 non-null  object\n",
      " 6   Arrival_Time     10683 non-null  object\n",
      " 7   Duration         10683 non-null  object\n",
      " 8   Total_Stops      10682 non-null  object\n",
      " 9   Additional_Info  10683 non-null  object\n",
      " 10  Price            10683 non-null  int64 \n",
      "dtypes: int64(1), object(10)\n",
      "memory usage: 918.2+ KB\n"
     ]
    }
   ],
   "source": [
    "data.info()"
   ]
  },
  {
   "cell_type": "markdown",
   "id": "260bf3c4",
   "metadata": {
    "id": "260bf3c4"
   },
   "source": [
    "1. The only numeric continuous variable in our dataset is price which is our target variable.\n",
    "2. All the predictors are categorical variables \n",
    "3. Total number of observations are 10,683.\n",
    "4. 'Route' and 'Total_Stops' have one missing value.\n"
   ]
  },
  {
   "cell_type": "code",
   "execution_count": null,
   "id": "8dd88095",
   "metadata": {
    "id": "8dd88095",
    "outputId": "f64111a2-e534-443e-c1e9-0a7eaa2b1707"
   },
   "outputs": [
    {
     "data": {
      "text/html": [
       "<div>\n",
       "<style scoped>\n",
       "    .dataframe tbody tr th:only-of-type {\n",
       "        vertical-align: middle;\n",
       "    }\n",
       "\n",
       "    .dataframe tbody tr th {\n",
       "        vertical-align: top;\n",
       "    }\n",
       "\n",
       "    .dataframe thead th {\n",
       "        text-align: right;\n",
       "    }\n",
       "</style>\n",
       "<table border=\"1\" class=\"dataframe\">\n",
       "  <thead>\n",
       "    <tr style=\"text-align: right;\">\n",
       "      <th></th>\n",
       "      <th>Price</th>\n",
       "    </tr>\n",
       "  </thead>\n",
       "  <tbody>\n",
       "    <tr>\n",
       "      <th>count</th>\n",
       "      <td>10683.000000</td>\n",
       "    </tr>\n",
       "    <tr>\n",
       "      <th>mean</th>\n",
       "      <td>9087.064121</td>\n",
       "    </tr>\n",
       "    <tr>\n",
       "      <th>std</th>\n",
       "      <td>4611.359167</td>\n",
       "    </tr>\n",
       "    <tr>\n",
       "      <th>min</th>\n",
       "      <td>1759.000000</td>\n",
       "    </tr>\n",
       "    <tr>\n",
       "      <th>25%</th>\n",
       "      <td>5277.000000</td>\n",
       "    </tr>\n",
       "    <tr>\n",
       "      <th>50%</th>\n",
       "      <td>8372.000000</td>\n",
       "    </tr>\n",
       "    <tr>\n",
       "      <th>75%</th>\n",
       "      <td>12373.000000</td>\n",
       "    </tr>\n",
       "    <tr>\n",
       "      <th>max</th>\n",
       "      <td>79512.000000</td>\n",
       "    </tr>\n",
       "  </tbody>\n",
       "</table>\n",
       "</div>"
      ],
      "text/plain": [
       "              Price\n",
       "count  10683.000000\n",
       "mean    9087.064121\n",
       "std     4611.359167\n",
       "min     1759.000000\n",
       "25%     5277.000000\n",
       "50%     8372.000000\n",
       "75%    12373.000000\n",
       "max    79512.000000"
      ]
     },
     "execution_count": 8,
     "metadata": {},
     "output_type": "execute_result"
    }
   ],
   "source": [
    "data.describe()"
   ]
  },
  {
   "cell_type": "code",
   "execution_count": null,
   "id": "15ffe2c0",
   "metadata": {
    "id": "15ffe2c0",
    "outputId": "49ed9155-0a5c-4664-897d-7c1e1b0073dc"
   },
   "outputs": [
    {
     "data": {
      "text/html": [
       "<div>\n",
       "<style scoped>\n",
       "    .dataframe tbody tr th:only-of-type {\n",
       "        vertical-align: middle;\n",
       "    }\n",
       "\n",
       "    .dataframe tbody tr th {\n",
       "        vertical-align: top;\n",
       "    }\n",
       "\n",
       "    .dataframe thead th {\n",
       "        text-align: right;\n",
       "    }\n",
       "</style>\n",
       "<table border=\"1\" class=\"dataframe\">\n",
       "  <thead>\n",
       "    <tr style=\"text-align: right;\">\n",
       "      <th></th>\n",
       "      <th>Airline</th>\n",
       "      <th>Date_of_Journey</th>\n",
       "      <th>Source</th>\n",
       "      <th>Destination</th>\n",
       "      <th>Route</th>\n",
       "      <th>Dep_Time</th>\n",
       "      <th>Arrival_Time</th>\n",
       "      <th>Duration</th>\n",
       "      <th>Total_Stops</th>\n",
       "      <th>Additional_Info</th>\n",
       "      <th>Price</th>\n",
       "    </tr>\n",
       "  </thead>\n",
       "  <tbody>\n",
       "    <tr>\n",
       "      <th>4066</th>\n",
       "      <td>SpiceJet</td>\n",
       "      <td>21/03/2019</td>\n",
       "      <td>Mumbai</td>\n",
       "      <td>Hyderabad</td>\n",
       "      <td>BOM → HYD</td>\n",
       "      <td>22:45</td>\n",
       "      <td>00:10 22 Mar</td>\n",
       "      <td>1h 25m</td>\n",
       "      <td>non-stop</td>\n",
       "      <td>No info</td>\n",
       "      <td>1759</td>\n",
       "    </tr>\n",
       "    <tr>\n",
       "      <th>4274</th>\n",
       "      <td>SpiceJet</td>\n",
       "      <td>27/03/2019</td>\n",
       "      <td>Mumbai</td>\n",
       "      <td>Hyderabad</td>\n",
       "      <td>BOM → HYD</td>\n",
       "      <td>22:45</td>\n",
       "      <td>00:10 28 Mar</td>\n",
       "      <td>1h 25m</td>\n",
       "      <td>non-stop</td>\n",
       "      <td>No info</td>\n",
       "      <td>1759</td>\n",
       "    </tr>\n",
       "    <tr>\n",
       "      <th>4839</th>\n",
       "      <td>SpiceJet</td>\n",
       "      <td>3/04/2019</td>\n",
       "      <td>Mumbai</td>\n",
       "      <td>Hyderabad</td>\n",
       "      <td>BOM → HYD</td>\n",
       "      <td>22:45</td>\n",
       "      <td>00:15 02 Apr</td>\n",
       "      <td>1h 30m</td>\n",
       "      <td>non-stop</td>\n",
       "      <td>No info</td>\n",
       "      <td>1759</td>\n",
       "    </tr>\n",
       "    <tr>\n",
       "      <th>10513</th>\n",
       "      <td>SpiceJet</td>\n",
       "      <td>27/03/2019</td>\n",
       "      <td>Mumbai</td>\n",
       "      <td>Hyderabad</td>\n",
       "      <td>BOM → HYD</td>\n",
       "      <td>05:45</td>\n",
       "      <td>07:05</td>\n",
       "      <td>1h 20m</td>\n",
       "      <td>non-stop</td>\n",
       "      <td>No info</td>\n",
       "      <td>1759</td>\n",
       "    </tr>\n",
       "  </tbody>\n",
       "</table>\n",
       "</div>"
      ],
      "text/plain": [
       "        Airline Date_of_Journey  Source Destination      Route Dep_Time  \\\n",
       "4066   SpiceJet      21/03/2019  Mumbai   Hyderabad  BOM → HYD    22:45   \n",
       "4274   SpiceJet      27/03/2019  Mumbai   Hyderabad  BOM → HYD    22:45   \n",
       "4839   SpiceJet       3/04/2019  Mumbai   Hyderabad  BOM → HYD    22:45   \n",
       "10513  SpiceJet      27/03/2019  Mumbai   Hyderabad  BOM → HYD    05:45   \n",
       "\n",
       "       Arrival_Time Duration Total_Stops Additional_Info  Price  \n",
       "4066   00:10 22 Mar   1h 25m    non-stop         No info   1759  \n",
       "4274   00:10 28 Mar   1h 25m    non-stop         No info   1759  \n",
       "4839   00:15 02 Apr   1h 30m    non-stop         No info   1759  \n",
       "10513         07:05   1h 20m    non-stop         No info   1759  "
      ]
     },
     "execution_count": 9,
     "metadata": {},
     "output_type": "execute_result"
    }
   ],
   "source": [
    "data[data['Price']==1759]  #Min Price Obs"
   ]
  },
  {
   "cell_type": "code",
   "execution_count": null,
   "id": "d49d48fb",
   "metadata": {
    "id": "d49d48fb",
    "outputId": "06419d81-b012-403b-9251-356c2b76ce41"
   },
   "outputs": [
    {
     "data": {
      "text/html": [
       "<div>\n",
       "<style scoped>\n",
       "    .dataframe tbody tr th:only-of-type {\n",
       "        vertical-align: middle;\n",
       "    }\n",
       "\n",
       "    .dataframe tbody tr th {\n",
       "        vertical-align: top;\n",
       "    }\n",
       "\n",
       "    .dataframe thead th {\n",
       "        text-align: right;\n",
       "    }\n",
       "</style>\n",
       "<table border=\"1\" class=\"dataframe\">\n",
       "  <thead>\n",
       "    <tr style=\"text-align: right;\">\n",
       "      <th></th>\n",
       "      <th>Airline</th>\n",
       "      <th>Date_of_Journey</th>\n",
       "      <th>Source</th>\n",
       "      <th>Destination</th>\n",
       "      <th>Route</th>\n",
       "      <th>Dep_Time</th>\n",
       "      <th>Arrival_Time</th>\n",
       "      <th>Duration</th>\n",
       "      <th>Total_Stops</th>\n",
       "      <th>Additional_Info</th>\n",
       "      <th>Price</th>\n",
       "    </tr>\n",
       "  </thead>\n",
       "  <tbody>\n",
       "    <tr>\n",
       "      <th>2924</th>\n",
       "      <td>Jet Airways Business</td>\n",
       "      <td>01/03/2019</td>\n",
       "      <td>Banglore</td>\n",
       "      <td>New Delhi</td>\n",
       "      <td>BLR → BOM → DEL</td>\n",
       "      <td>05:45</td>\n",
       "      <td>11:25</td>\n",
       "      <td>5h 40m</td>\n",
       "      <td>1 stop</td>\n",
       "      <td>Business class</td>\n",
       "      <td>79512</td>\n",
       "    </tr>\n",
       "  </tbody>\n",
       "</table>\n",
       "</div>"
      ],
      "text/plain": [
       "                   Airline Date_of_Journey    Source Destination  \\\n",
       "2924  Jet Airways Business      01/03/2019  Banglore   New Delhi   \n",
       "\n",
       "                Route Dep_Time Arrival_Time Duration Total_Stops  \\\n",
       "2924  BLR → BOM → DEL    05:45        11:25   5h 40m      1 stop   \n",
       "\n",
       "     Additional_Info  Price  \n",
       "2924  Business class  79512  "
      ]
     },
     "execution_count": 10,
     "metadata": {},
     "output_type": "execute_result"
    }
   ],
   "source": [
    "data[data['Price']==79512] #Max Price Obs"
   ]
  },
  {
   "cell_type": "code",
   "execution_count": null,
   "id": "8c83ba51",
   "metadata": {
    "id": "8c83ba51",
    "outputId": "55277e46-81e9-4182-aec9-499182215415"
   },
   "outputs": [
    {
     "data": {
      "text/html": [
       "<div>\n",
       "<style scoped>\n",
       "    .dataframe tbody tr th:only-of-type {\n",
       "        vertical-align: middle;\n",
       "    }\n",
       "\n",
       "    .dataframe tbody tr th {\n",
       "        vertical-align: top;\n",
       "    }\n",
       "\n",
       "    .dataframe thead th {\n",
       "        text-align: right;\n",
       "    }\n",
       "</style>\n",
       "<table border=\"1\" class=\"dataframe\">\n",
       "  <thead>\n",
       "    <tr style=\"text-align: right;\">\n",
       "      <th></th>\n",
       "      <th>Airline</th>\n",
       "      <th>Date_of_Journey</th>\n",
       "      <th>Source</th>\n",
       "      <th>Destination</th>\n",
       "      <th>Route</th>\n",
       "      <th>Dep_Time</th>\n",
       "      <th>Arrival_Time</th>\n",
       "      <th>Duration</th>\n",
       "      <th>Total_Stops</th>\n",
       "      <th>Additional_Info</th>\n",
       "    </tr>\n",
       "  </thead>\n",
       "  <tbody>\n",
       "    <tr>\n",
       "      <th>count</th>\n",
       "      <td>10683</td>\n",
       "      <td>10683</td>\n",
       "      <td>10683</td>\n",
       "      <td>10683</td>\n",
       "      <td>10682</td>\n",
       "      <td>10683</td>\n",
       "      <td>10683</td>\n",
       "      <td>10683</td>\n",
       "      <td>10682</td>\n",
       "      <td>10683</td>\n",
       "    </tr>\n",
       "    <tr>\n",
       "      <th>unique</th>\n",
       "      <td>12</td>\n",
       "      <td>44</td>\n",
       "      <td>5</td>\n",
       "      <td>6</td>\n",
       "      <td>128</td>\n",
       "      <td>222</td>\n",
       "      <td>1343</td>\n",
       "      <td>368</td>\n",
       "      <td>5</td>\n",
       "      <td>10</td>\n",
       "    </tr>\n",
       "    <tr>\n",
       "      <th>top</th>\n",
       "      <td>Jet Airways</td>\n",
       "      <td>18/05/2019</td>\n",
       "      <td>Delhi</td>\n",
       "      <td>Cochin</td>\n",
       "      <td>DEL → BOM → COK</td>\n",
       "      <td>18:55</td>\n",
       "      <td>19:00</td>\n",
       "      <td>2h 50m</td>\n",
       "      <td>1 stop</td>\n",
       "      <td>No info</td>\n",
       "    </tr>\n",
       "    <tr>\n",
       "      <th>freq</th>\n",
       "      <td>3849</td>\n",
       "      <td>504</td>\n",
       "      <td>4537</td>\n",
       "      <td>4537</td>\n",
       "      <td>2376</td>\n",
       "      <td>233</td>\n",
       "      <td>423</td>\n",
       "      <td>550</td>\n",
       "      <td>5625</td>\n",
       "      <td>8345</td>\n",
       "    </tr>\n",
       "  </tbody>\n",
       "</table>\n",
       "</div>"
      ],
      "text/plain": [
       "            Airline Date_of_Journey Source Destination            Route  \\\n",
       "count         10683           10683  10683       10683            10682   \n",
       "unique           12              44      5           6              128   \n",
       "top     Jet Airways      18/05/2019  Delhi      Cochin  DEL → BOM → COK   \n",
       "freq           3849             504   4537        4537             2376   \n",
       "\n",
       "       Dep_Time Arrival_Time Duration Total_Stops Additional_Info  \n",
       "count     10683        10683    10683       10682           10683  \n",
       "unique      222         1343      368           5              10  \n",
       "top       18:55        19:00   2h 50m      1 stop         No info  \n",
       "freq        233          423      550        5625            8345  "
      ]
     },
     "execution_count": 11,
     "metadata": {},
     "output_type": "execute_result"
    }
   ],
   "source": [
    "data.describe(include=\"O\")  #to include categorical variables with data type 'object'"
   ]
  },
  {
   "cell_type": "markdown",
   "id": "5ea55d62",
   "metadata": {
    "id": "5ea55d62"
   },
   "source": [
    "# Domain Analysis"
   ]
  },
  {
   "cell_type": "markdown",
   "id": "78322678",
   "metadata": {
    "id": "78322678"
   },
   "source": [
    "The above dataset is about flight prices and certain features that impact it. This dataset is of Indian domestic travelling patterns and the goal is to predict the flight prices based on given features. "
   ]
  },
  {
   "cell_type": "markdown",
   "id": "a7c4a680",
   "metadata": {
    "id": "a7c4a680"
   },
   "source": [
    "### Airline\n",
    "- The types of airlines- 'IndiGo', 'Air India', 'Jet Airways', 'SpiceJet','Multiple carriers', 'GoAir', 'Vistara', 'Air Asia', 'Vistara Premium economy', 'Jet Airways Business','Multiple carriers Premium economy', 'Trujet'.\n",
    "- Full-service airlines like Vistara, Jet Airways and Air India tend to be more expensive than budget carriers like  Air India Regional, SpiceJet, Air India Express, IndiGo, GoAir, AirAsia India, Trujet."
   ]
  },
  {
   "cell_type": "markdown",
   "id": "9b0220d2",
   "metadata": {
    "id": "9b0220d2"
   },
   "source": [
    "### Date_of_Journey\n",
    "- This column will let us know about the date on which the passenger’s journey will start.\n",
    "- Holiday seasons and other such peak travel times are guaranteed to get lots of bookings and  are priced higher. Seasons known to have very poor load factor are priced cheaper and so on.\n",
    "-  Flights that take off and land on weekends, or Mondays and Fridays generally cost more since demand for tickets on those days is relatively higher, leading to a subsequent hike in fares. Midweek flights such as flying on a Tuesday or Wednesday are cheaper. This is because airlines typically announce the sales on select routes on a Monday night thus one could bag a cheaper flight the next day. For a domestic route, travelling on a weekday or even a Saturday for travel tends to be cheaper. "
   ]
  },
  {
   "cell_type": "markdown",
   "id": "a4ec72f9",
   "metadata": {
    "id": "a4ec72f9"
   },
   "source": [
    "### Source\n",
    "- This column holds the name of the place from where the passenger’s journey will start.\n",
    "- The sources are 'Banglore', 'Kolkata', 'Delhi', 'Chennai', 'Mumbai'"
   ]
  },
  {
   "cell_type": "markdown",
   "id": "fdc9ad53",
   "metadata": {
    "id": "fdc9ad53"
   },
   "source": [
    "###  Destination\n",
    "- This column holds the name of the place to where passengers wanted to travel.\n",
    "- The destinations are 'New Delhi', 'Banglore', 'Cochin', 'Kolkata', 'Delhi', 'Hyderabad'\n",
    "- Fares to smaller cities with little airline competition are typically more expensive than fares to big cities with hub airports catering to many different carriers."
   ]
  },
  {
   "cell_type": "markdown",
   "id": "1e16109e",
   "metadata": {
    "id": "1e16109e"
   },
   "source": [
    "### Route\n",
    "- Here we can know about that what is the route through which passengers have opted to travel from his/her source to their destination.\n",
    "- The route determines the distance and time taken to reac the destination. The farther the distance, the more the travel time, the more expensive the flight ticket price is. It is considered to be almost in direct relation with the pricing system of flight tickets.\n"
   ]
  },
  {
   "cell_type": "markdown",
   "id": "1ecb79a5",
   "metadata": {
    "id": "1ecb79a5"
   },
   "source": [
    "### Dep_Time\n",
    "- The departure time is when the passengers flight will leave from source\n",
    "- The departure time also could have an impact on the fares. Usually, flights scheduled during peak hours between 11am and 8pm are more expensive than the ones for other time slots. Off hours tend to have low passenger traffic, thus offering lower airfare.\n",
    "-  flying during unpopular times-of-day such as at dawn, during meal times or overnight “red-eye” flights( flight scheduled to depart at night and arrive the next morning) are cheaper.\n"
   ]
  },
  {
   "cell_type": "markdown",
   "id": "53365c9a",
   "metadata": {
    "id": "53365c9a"
   },
   "source": [
    "### Arrival_Time\n",
    "- Arrival time is when the passenger will reach his/her destination.\n"
   ]
  },
  {
   "cell_type": "markdown",
   "id": "6c9f676b",
   "metadata": {
    "id": "6c9f676b"
   },
   "source": [
    "### Duration\n",
    "- Duration is the whole period that a flight will take to complete its journey from source to destination.\n",
    "- Intuitively, we know that the longer the flight duration i,e. in-flight time, the more the resource consumption such as fuel etc. and consequently the higher the prices."
   ]
  },
  {
   "cell_type": "markdown",
   "id": "a55135af",
   "metadata": {
    "id": "a55135af"
   },
   "source": [
    "### Total_Stops\n",
    "- The total number of places flights will stop in the whole journey."
   ]
  },
  {
   "cell_type": "markdown",
   "id": "a42dc1c9",
   "metadata": {
    "id": "a42dc1c9"
   },
   "source": [
    "### Additional_Info\n",
    "- In this column, we will get information about food, premium features, and other amenities. Opting to chose for an in flight meal or a business class will naturally result in a higher flight price. "
   ]
  },
  {
   "cell_type": "markdown",
   "id": "ae15d65b",
   "metadata": {
    "id": "ae15d65b"
   },
   "source": [
    "### Price\n",
    "- Price of the flight for a complete journey including all the expenses before onboarding. This is our target variable which we are trying to predict. "
   ]
  },
  {
   "cell_type": "markdown",
   "id": "69c5d790",
   "metadata": {
    "id": "69c5d790"
   },
   "source": [
    "# Data Preparation"
   ]
  },
  {
   "cell_type": "markdown",
   "id": "6815b34f",
   "metadata": {
    "id": "6815b34f"
   },
   "source": [
    "- This preprocessing step involves the manipulation and consolidation of raw data  into a standardized format so that it can be used in a model. This would include feature creation, cleaning data, data augmentation, transformations etc.\n",
    "- In this case, we need to convert the date and time related columns into a format which can be used for analysis and be understood by the model. \n",
    "- We would also need to clean data of other columns if required"
   ]
  },
  {
   "cell_type": "markdown",
   "id": "f30a4171",
   "metadata": {
    "id": "f30a4171"
   },
   "source": [
    "## Date"
   ]
  },
  {
   "cell_type": "markdown",
   "id": "b4a6b366",
   "metadata": {
    "id": "b4a6b366"
   },
   "source": [
    "The 'Date_of_Journey' column can be used to create new columns such as day of the week and month."
   ]
  },
  {
   "cell_type": "code",
   "execution_count": null,
   "id": "72503b99",
   "metadata": {
    "id": "72503b99"
   },
   "outputs": [],
   "source": [
    "data[\"Date_of_Journey\"] = pd.to_datetime(data[\"Date_of_Journey\"])"
   ]
  },
  {
   "cell_type": "code",
   "execution_count": null,
   "id": "d6b4c369",
   "metadata": {
    "id": "d6b4c369",
    "outputId": "c277862f-f678-4521-e318-b1bdcd082e6d"
   },
   "outputs": [
    {
     "name": "stdout",
     "output_type": "stream",
     "text": [
      "<class 'pandas.core.frame.DataFrame'>\n",
      "RangeIndex: 10683 entries, 0 to 10682\n",
      "Data columns (total 11 columns):\n",
      " #   Column           Non-Null Count  Dtype         \n",
      "---  ------           --------------  -----         \n",
      " 0   Airline          10683 non-null  object        \n",
      " 1   Date_of_Journey  10683 non-null  datetime64[ns]\n",
      " 2   Source           10683 non-null  object        \n",
      " 3   Destination      10683 non-null  object        \n",
      " 4   Route            10682 non-null  object        \n",
      " 5   Dep_Time         10683 non-null  object        \n",
      " 6   Arrival_Time     10683 non-null  object        \n",
      " 7   Duration         10683 non-null  object        \n",
      " 8   Total_Stops      10682 non-null  object        \n",
      " 9   Additional_Info  10683 non-null  object        \n",
      " 10  Price            10683 non-null  int64         \n",
      "dtypes: datetime64[ns](1), int64(1), object(9)\n",
      "memory usage: 918.2+ KB\n"
     ]
    }
   ],
   "source": [
    "data.info()"
   ]
  },
  {
   "cell_type": "markdown",
   "id": "cc0f60d0",
   "metadata": {
    "id": "cc0f60d0"
   },
   "source": [
    "We have converted the date column to a pandas datetime object"
   ]
  },
  {
   "cell_type": "code",
   "execution_count": null,
   "id": "e1f4a3e2",
   "metadata": {
    "id": "e1f4a3e2",
    "outputId": "5c524e2a-ac49-4b93-9df5-322c5eebf0d0"
   },
   "outputs": [
    {
     "data": {
      "text/html": [
       "<div>\n",
       "<style scoped>\n",
       "    .dataframe tbody tr th:only-of-type {\n",
       "        vertical-align: middle;\n",
       "    }\n",
       "\n",
       "    .dataframe tbody tr th {\n",
       "        vertical-align: top;\n",
       "    }\n",
       "\n",
       "    .dataframe thead th {\n",
       "        text-align: right;\n",
       "    }\n",
       "</style>\n",
       "<table border=\"1\" class=\"dataframe\">\n",
       "  <thead>\n",
       "    <tr style=\"text-align: right;\">\n",
       "      <th></th>\n",
       "      <th>Airline</th>\n",
       "      <th>Date_of_Journey</th>\n",
       "      <th>Source</th>\n",
       "      <th>Destination</th>\n",
       "      <th>Route</th>\n",
       "      <th>Dep_Time</th>\n",
       "      <th>Arrival_Time</th>\n",
       "      <th>Duration</th>\n",
       "      <th>Total_Stops</th>\n",
       "      <th>Additional_Info</th>\n",
       "      <th>Price</th>\n",
       "      <th>Weekday_of_Journey</th>\n",
       "      <th>Month_of_Journey</th>\n",
       "      <th>Day_of_Journey</th>\n",
       "    </tr>\n",
       "  </thead>\n",
       "  <tbody>\n",
       "    <tr>\n",
       "      <th>0</th>\n",
       "      <td>IndiGo</td>\n",
       "      <td>2019-03-24</td>\n",
       "      <td>Banglore</td>\n",
       "      <td>New Delhi</td>\n",
       "      <td>BLR → DEL</td>\n",
       "      <td>22:20</td>\n",
       "      <td>01:10 22 Mar</td>\n",
       "      <td>2h 50m</td>\n",
       "      <td>non-stop</td>\n",
       "      <td>No info</td>\n",
       "      <td>3897</td>\n",
       "      <td>6</td>\n",
       "      <td>3</td>\n",
       "      <td>24</td>\n",
       "    </tr>\n",
       "    <tr>\n",
       "      <th>1</th>\n",
       "      <td>Air India</td>\n",
       "      <td>2019-01-05</td>\n",
       "      <td>Kolkata</td>\n",
       "      <td>Banglore</td>\n",
       "      <td>CCU → IXR → BBI → BLR</td>\n",
       "      <td>05:50</td>\n",
       "      <td>13:15</td>\n",
       "      <td>7h 25m</td>\n",
       "      <td>2 stops</td>\n",
       "      <td>No info</td>\n",
       "      <td>7662</td>\n",
       "      <td>5</td>\n",
       "      <td>1</td>\n",
       "      <td>5</td>\n",
       "    </tr>\n",
       "    <tr>\n",
       "      <th>2</th>\n",
       "      <td>Jet Airways</td>\n",
       "      <td>2019-09-06</td>\n",
       "      <td>Delhi</td>\n",
       "      <td>Cochin</td>\n",
       "      <td>DEL → LKO → BOM → COK</td>\n",
       "      <td>09:25</td>\n",
       "      <td>04:25 10 Jun</td>\n",
       "      <td>19h</td>\n",
       "      <td>2 stops</td>\n",
       "      <td>No info</td>\n",
       "      <td>13882</td>\n",
       "      <td>4</td>\n",
       "      <td>9</td>\n",
       "      <td>6</td>\n",
       "    </tr>\n",
       "    <tr>\n",
       "      <th>3</th>\n",
       "      <td>IndiGo</td>\n",
       "      <td>2019-12-05</td>\n",
       "      <td>Kolkata</td>\n",
       "      <td>Banglore</td>\n",
       "      <td>CCU → NAG → BLR</td>\n",
       "      <td>18:05</td>\n",
       "      <td>23:30</td>\n",
       "      <td>5h 25m</td>\n",
       "      <td>1 stop</td>\n",
       "      <td>No info</td>\n",
       "      <td>6218</td>\n",
       "      <td>3</td>\n",
       "      <td>12</td>\n",
       "      <td>5</td>\n",
       "    </tr>\n",
       "    <tr>\n",
       "      <th>4</th>\n",
       "      <td>IndiGo</td>\n",
       "      <td>2019-01-03</td>\n",
       "      <td>Banglore</td>\n",
       "      <td>New Delhi</td>\n",
       "      <td>BLR → NAG → DEL</td>\n",
       "      <td>16:50</td>\n",
       "      <td>21:35</td>\n",
       "      <td>4h 45m</td>\n",
       "      <td>1 stop</td>\n",
       "      <td>No info</td>\n",
       "      <td>13302</td>\n",
       "      <td>3</td>\n",
       "      <td>1</td>\n",
       "      <td>3</td>\n",
       "    </tr>\n",
       "  </tbody>\n",
       "</table>\n",
       "</div>"
      ],
      "text/plain": [
       "       Airline Date_of_Journey    Source Destination                  Route  \\\n",
       "0       IndiGo      2019-03-24  Banglore   New Delhi              BLR → DEL   \n",
       "1    Air India      2019-01-05   Kolkata    Banglore  CCU → IXR → BBI → BLR   \n",
       "2  Jet Airways      2019-09-06     Delhi      Cochin  DEL → LKO → BOM → COK   \n",
       "3       IndiGo      2019-12-05   Kolkata    Banglore        CCU → NAG → BLR   \n",
       "4       IndiGo      2019-01-03  Banglore   New Delhi        BLR → NAG → DEL   \n",
       "\n",
       "  Dep_Time  Arrival_Time Duration Total_Stops Additional_Info  Price  \\\n",
       "0    22:20  01:10 22 Mar   2h 50m    non-stop         No info   3897   \n",
       "1    05:50         13:15   7h 25m     2 stops         No info   7662   \n",
       "2    09:25  04:25 10 Jun      19h     2 stops         No info  13882   \n",
       "3    18:05         23:30   5h 25m      1 stop         No info   6218   \n",
       "4    16:50         21:35   4h 45m      1 stop         No info  13302   \n",
       "\n",
       "   Weekday_of_Journey  Month_of_Journey  Day_of_Journey  \n",
       "0                   6                 3              24  \n",
       "1                   5                 1               5  \n",
       "2                   4                 9               6  \n",
       "3                   3                12               5  \n",
       "4                   3                 1               3  "
      ]
     },
     "execution_count": 14,
     "metadata": {},
     "output_type": "execute_result"
    }
   ],
   "source": [
    "data[\"Weekday_of_Journey\"] = data[\"Date_of_Journey\"].dt.weekday\n",
    "data[\"Month_of_Journey\"] = data[\"Date_of_Journey\"].dt.month\n",
    "data[\"Day_of_Journey\"]= data[\"Date_of_Journey\"].dt.day\n",
    "data.head()"
   ]
  },
  {
   "cell_type": "code",
   "execution_count": null,
   "id": "07910cf5",
   "metadata": {
    "id": "07910cf5"
   },
   "outputs": [],
   "source": [
    "# We can now drop the Date_of_Journey column since all the necessary features has been extracted from it\n",
    "data.drop(\"Date_of_Journey\", axis=1, inplace=True)"
   ]
  },
  {
   "cell_type": "markdown",
   "id": "be2af4a1",
   "metadata": {
    "id": "be2af4a1"
   },
   "source": [
    "## Time"
   ]
  },
  {
   "cell_type": "markdown",
   "id": "8ce63eae",
   "metadata": {
    "id": "8ce63eae"
   },
   "source": [
    "- The time columns that need to be handled are Dep_Time, Arrival_Time &\tDuration\n",
    "- An airport typically sees four ‘peaks’ in a day. These are approximately between 6 a.m.-8.30 a.m., 10.30 a.m.-noon, 4 p.m.-6 p.m. and 7 p.m.-9.30 p.m. Flight prices tend to be higher during peak hours."
   ]
  },
  {
   "cell_type": "markdown",
   "id": "d9f54905",
   "metadata": {
    "id": "d9f54905"
   },
   "source": [
    "Converting the arrival and departeure time to hours"
   ]
  },
  {
   "cell_type": "code",
   "execution_count": null,
   "id": "da7b6aa1",
   "metadata": {
    "id": "da7b6aa1",
    "outputId": "3ffd2979-e872-471e-a710-76bdaa103520"
   },
   "outputs": [
    {
     "data": {
      "text/html": [
       "<div>\n",
       "<style scoped>\n",
       "    .dataframe tbody tr th:only-of-type {\n",
       "        vertical-align: middle;\n",
       "    }\n",
       "\n",
       "    .dataframe tbody tr th {\n",
       "        vertical-align: top;\n",
       "    }\n",
       "\n",
       "    .dataframe thead th {\n",
       "        text-align: right;\n",
       "    }\n",
       "</style>\n",
       "<table border=\"1\" class=\"dataframe\">\n",
       "  <thead>\n",
       "    <tr style=\"text-align: right;\">\n",
       "      <th></th>\n",
       "      <th>Airline</th>\n",
       "      <th>Source</th>\n",
       "      <th>Destination</th>\n",
       "      <th>Route</th>\n",
       "      <th>Dep_Time</th>\n",
       "      <th>Arrival_Time</th>\n",
       "      <th>Duration</th>\n",
       "      <th>Total_Stops</th>\n",
       "      <th>Additional_Info</th>\n",
       "      <th>Price</th>\n",
       "      <th>Weekday_of_Journey</th>\n",
       "      <th>Month_of_Journey</th>\n",
       "      <th>Day_of_Journey</th>\n",
       "    </tr>\n",
       "  </thead>\n",
       "  <tbody>\n",
       "    <tr>\n",
       "      <th>0</th>\n",
       "      <td>IndiGo</td>\n",
       "      <td>Banglore</td>\n",
       "      <td>New Delhi</td>\n",
       "      <td>BLR → DEL</td>\n",
       "      <td>22</td>\n",
       "      <td>1</td>\n",
       "      <td>2h 50m</td>\n",
       "      <td>non-stop</td>\n",
       "      <td>No info</td>\n",
       "      <td>3897</td>\n",
       "      <td>6</td>\n",
       "      <td>3</td>\n",
       "      <td>24</td>\n",
       "    </tr>\n",
       "    <tr>\n",
       "      <th>1</th>\n",
       "      <td>Air India</td>\n",
       "      <td>Kolkata</td>\n",
       "      <td>Banglore</td>\n",
       "      <td>CCU → IXR → BBI → BLR</td>\n",
       "      <td>5</td>\n",
       "      <td>13</td>\n",
       "      <td>7h 25m</td>\n",
       "      <td>2 stops</td>\n",
       "      <td>No info</td>\n",
       "      <td>7662</td>\n",
       "      <td>5</td>\n",
       "      <td>1</td>\n",
       "      <td>5</td>\n",
       "    </tr>\n",
       "    <tr>\n",
       "      <th>2</th>\n",
       "      <td>Jet Airways</td>\n",
       "      <td>Delhi</td>\n",
       "      <td>Cochin</td>\n",
       "      <td>DEL → LKO → BOM → COK</td>\n",
       "      <td>9</td>\n",
       "      <td>4</td>\n",
       "      <td>19h</td>\n",
       "      <td>2 stops</td>\n",
       "      <td>No info</td>\n",
       "      <td>13882</td>\n",
       "      <td>4</td>\n",
       "      <td>9</td>\n",
       "      <td>6</td>\n",
       "    </tr>\n",
       "    <tr>\n",
       "      <th>3</th>\n",
       "      <td>IndiGo</td>\n",
       "      <td>Kolkata</td>\n",
       "      <td>Banglore</td>\n",
       "      <td>CCU → NAG → BLR</td>\n",
       "      <td>18</td>\n",
       "      <td>23</td>\n",
       "      <td>5h 25m</td>\n",
       "      <td>1 stop</td>\n",
       "      <td>No info</td>\n",
       "      <td>6218</td>\n",
       "      <td>3</td>\n",
       "      <td>12</td>\n",
       "      <td>5</td>\n",
       "    </tr>\n",
       "    <tr>\n",
       "      <th>4</th>\n",
       "      <td>IndiGo</td>\n",
       "      <td>Banglore</td>\n",
       "      <td>New Delhi</td>\n",
       "      <td>BLR → NAG → DEL</td>\n",
       "      <td>16</td>\n",
       "      <td>21</td>\n",
       "      <td>4h 45m</td>\n",
       "      <td>1 stop</td>\n",
       "      <td>No info</td>\n",
       "      <td>13302</td>\n",
       "      <td>3</td>\n",
       "      <td>1</td>\n",
       "      <td>3</td>\n",
       "    </tr>\n",
       "  </tbody>\n",
       "</table>\n",
       "</div>"
      ],
      "text/plain": [
       "       Airline    Source Destination                  Route  Dep_Time  \\\n",
       "0       IndiGo  Banglore   New Delhi              BLR → DEL        22   \n",
       "1    Air India   Kolkata    Banglore  CCU → IXR → BBI → BLR         5   \n",
       "2  Jet Airways     Delhi      Cochin  DEL → LKO → BOM → COK         9   \n",
       "3       IndiGo   Kolkata    Banglore        CCU → NAG → BLR        18   \n",
       "4       IndiGo  Banglore   New Delhi        BLR → NAG → DEL        16   \n",
       "\n",
       "   Arrival_Time Duration Total_Stops Additional_Info  Price  \\\n",
       "0             1   2h 50m    non-stop         No info   3897   \n",
       "1            13   7h 25m     2 stops         No info   7662   \n",
       "2             4      19h     2 stops         No info  13882   \n",
       "3            23   5h 25m      1 stop         No info   6218   \n",
       "4            21   4h 45m      1 stop         No info  13302   \n",
       "\n",
       "   Weekday_of_Journey  Month_of_Journey  Day_of_Journey  \n",
       "0                   6                 3              24  \n",
       "1                   5                 1               5  \n",
       "2                   4                 9               6  \n",
       "3                   3                12               5  \n",
       "4                   3                 1               3  "
      ]
     },
     "execution_count": 16,
     "metadata": {},
     "output_type": "execute_result"
    }
   ],
   "source": [
    "data[\"Dep_Time\"] = pd.to_datetime(data[\"Dep_Time\"]).dt.hour\n",
    "data[\"Arrival_Time\"] = pd.to_datetime(data[\"Arrival_Time\"]).dt.hour\n",
    "data.head()"
   ]
  },
  {
   "cell_type": "code",
   "execution_count": null,
   "id": "bcc1dd5f",
   "metadata": {
    "id": "bcc1dd5f",
    "outputId": "357b4a2c-9213-4324-ea8e-4ac0bf3d42d4"
   },
   "outputs": [
    {
     "data": {
      "text/html": [
       "<div>\n",
       "<style scoped>\n",
       "    .dataframe tbody tr th:only-of-type {\n",
       "        vertical-align: middle;\n",
       "    }\n",
       "\n",
       "    .dataframe tbody tr th {\n",
       "        vertical-align: top;\n",
       "    }\n",
       "\n",
       "    .dataframe thead th {\n",
       "        text-align: right;\n",
       "    }\n",
       "</style>\n",
       "<table border=\"1\" class=\"dataframe\">\n",
       "  <thead>\n",
       "    <tr style=\"text-align: right;\">\n",
       "      <th></th>\n",
       "      <th>Airline</th>\n",
       "      <th>Source</th>\n",
       "      <th>Destination</th>\n",
       "      <th>Route</th>\n",
       "      <th>Dep_Time</th>\n",
       "      <th>Arrival_Time</th>\n",
       "      <th>Duration</th>\n",
       "      <th>Total_Stops</th>\n",
       "      <th>Additional_Info</th>\n",
       "      <th>Price</th>\n",
       "      <th>Weekday_of_Journey</th>\n",
       "      <th>Month_of_Journey</th>\n",
       "      <th>Day_of_Journey</th>\n",
       "    </tr>\n",
       "  </thead>\n",
       "  <tbody>\n",
       "    <tr>\n",
       "      <th>0</th>\n",
       "      <td>IndiGo</td>\n",
       "      <td>Banglore</td>\n",
       "      <td>New Delhi</td>\n",
       "      <td>BLR → DEL</td>\n",
       "      <td>22</td>\n",
       "      <td>1</td>\n",
       "      <td>2.83</td>\n",
       "      <td>non-stop</td>\n",
       "      <td>No info</td>\n",
       "      <td>3897</td>\n",
       "      <td>6</td>\n",
       "      <td>3</td>\n",
       "      <td>24</td>\n",
       "    </tr>\n",
       "    <tr>\n",
       "      <th>1</th>\n",
       "      <td>Air India</td>\n",
       "      <td>Kolkata</td>\n",
       "      <td>Banglore</td>\n",
       "      <td>CCU → IXR → BBI → BLR</td>\n",
       "      <td>5</td>\n",
       "      <td>13</td>\n",
       "      <td>7.42</td>\n",
       "      <td>2 stops</td>\n",
       "      <td>No info</td>\n",
       "      <td>7662</td>\n",
       "      <td>5</td>\n",
       "      <td>1</td>\n",
       "      <td>5</td>\n",
       "    </tr>\n",
       "    <tr>\n",
       "      <th>2</th>\n",
       "      <td>Jet Airways</td>\n",
       "      <td>Delhi</td>\n",
       "      <td>Cochin</td>\n",
       "      <td>DEL → LKO → BOM → COK</td>\n",
       "      <td>9</td>\n",
       "      <td>4</td>\n",
       "      <td>19.00</td>\n",
       "      <td>2 stops</td>\n",
       "      <td>No info</td>\n",
       "      <td>13882</td>\n",
       "      <td>4</td>\n",
       "      <td>9</td>\n",
       "      <td>6</td>\n",
       "    </tr>\n",
       "    <tr>\n",
       "      <th>3</th>\n",
       "      <td>IndiGo</td>\n",
       "      <td>Kolkata</td>\n",
       "      <td>Banglore</td>\n",
       "      <td>CCU → NAG → BLR</td>\n",
       "      <td>18</td>\n",
       "      <td>23</td>\n",
       "      <td>5.42</td>\n",
       "      <td>1 stop</td>\n",
       "      <td>No info</td>\n",
       "      <td>6218</td>\n",
       "      <td>3</td>\n",
       "      <td>12</td>\n",
       "      <td>5</td>\n",
       "    </tr>\n",
       "    <tr>\n",
       "      <th>4</th>\n",
       "      <td>IndiGo</td>\n",
       "      <td>Banglore</td>\n",
       "      <td>New Delhi</td>\n",
       "      <td>BLR → NAG → DEL</td>\n",
       "      <td>16</td>\n",
       "      <td>21</td>\n",
       "      <td>4.75</td>\n",
       "      <td>1 stop</td>\n",
       "      <td>No info</td>\n",
       "      <td>13302</td>\n",
       "      <td>3</td>\n",
       "      <td>1</td>\n",
       "      <td>3</td>\n",
       "    </tr>\n",
       "  </tbody>\n",
       "</table>\n",
       "</div>"
      ],
      "text/plain": [
       "       Airline    Source Destination                  Route  Dep_Time  \\\n",
       "0       IndiGo  Banglore   New Delhi              BLR → DEL        22   \n",
       "1    Air India   Kolkata    Banglore  CCU → IXR → BBI → BLR         5   \n",
       "2  Jet Airways     Delhi      Cochin  DEL → LKO → BOM → COK         9   \n",
       "3       IndiGo   Kolkata    Banglore        CCU → NAG → BLR        18   \n",
       "4       IndiGo  Banglore   New Delhi        BLR → NAG → DEL        16   \n",
       "\n",
       "   Arrival_Time  Duration Total_Stops Additional_Info  Price  \\\n",
       "0             1      2.83    non-stop         No info   3897   \n",
       "1            13      7.42     2 stops         No info   7662   \n",
       "2             4     19.00     2 stops         No info  13882   \n",
       "3            23      5.42      1 stop         No info   6218   \n",
       "4            21      4.75      1 stop         No info  13302   \n",
       "\n",
       "   Weekday_of_Journey  Month_of_Journey  Day_of_Journey  \n",
       "0                   6                 3              24  \n",
       "1                   5                 1               5  \n",
       "2                   4                 9               6  \n",
       "3                   3                12               5  \n",
       "4                   3                 1               3  "
      ]
     },
     "execution_count": 17,
     "metadata": {},
     "output_type": "execute_result"
    }
   ],
   "source": [
    "# Code to convert duration column's time to hours\n",
    "duration=[]\n",
    "for value in data.Duration:\n",
    "    if \"h\" in value and \"m\" in value:     #hour and minutes\n",
    "        dur_splitted = value.split(\" \")\n",
    "        time = []\n",
    "        for i in dur_splitted:\n",
    "            stripped_value = i.rstrip(i[-1]) #to remove the last charachter of string eg: 2h -> 2\n",
    "            time.append(stripped_value)\n",
    "        hour =int(time[0])   #first value is hour when duration has \"h\"&\"m\"\n",
    "        minutes = int(time[1]) #second value is minute\n",
    "        total_time = round(hour + (minutes/60), 2)  #calculating total time in hours\n",
    "        duration.append(total_time)\n",
    "    elif \"h\" in value:    #hour only                \n",
    "        stripped_value = value.rstrip(value[-1])  \n",
    "        total_time = int(stripped_value)\n",
    "        duration.append(total_time)\n",
    "        \n",
    "    else:          #minutes only\n",
    "        stripped_value = value.rstrip(value[-1])\n",
    "        total_time = round((int(stripped_value)/60),2) # converting minutes to hour\n",
    "        duration.append(total_time)\n",
    "        \n",
    "\n",
    "data.Duration = duration\n",
    "data.head()      "
   ]
  },
  {
   "cell_type": "markdown",
   "id": "23c153a8",
   "metadata": {
    "id": "23c153a8"
   },
   "source": [
    "### Airlines\n"
   ]
  },
  {
   "cell_type": "markdown",
   "id": "5a626f0a",
   "metadata": {
    "id": "5a626f0a"
   },
   "source": [
    "The airlines column contains values that need to be cleaned. Eg: 'Vistara Premium economy' is not another airline and would actuallycome under 'Vistara' while 'Premium economy' part of it is just additional information about the seat type. By doing this we will eliminate creation of extra dimensions during the categoraical data conversion step. "
   ]
  },
  {
   "cell_type": "code",
   "execution_count": null,
   "id": "35fc2297",
   "metadata": {
    "id": "35fc2297",
    "outputId": "6d74ba67-8ae1-4c55-ccf9-17cd0713fc00"
   },
   "outputs": [
    {
     "data": {
      "text/plain": [
       "Jet Airways                          3849\n",
       "IndiGo                               2053\n",
       "Air India                            1752\n",
       "Multiple carriers                    1196\n",
       "SpiceJet                              818\n",
       "Vistara                               479\n",
       "Air Asia                              319\n",
       "GoAir                                 194\n",
       "Multiple carriers Premium economy      13\n",
       "Jet Airways Business                    6\n",
       "Vistara Premium economy                 3\n",
       "Trujet                                  1\n",
       "Name: Airline, dtype: int64"
      ]
     },
     "execution_count": 18,
     "metadata": {},
     "output_type": "execute_result"
    }
   ],
   "source": [
    "data.Airline.value_counts()"
   ]
  },
  {
   "cell_type": "code",
   "execution_count": null,
   "id": "970d6ee0",
   "metadata": {
    "id": "970d6ee0"
   },
   "outputs": [],
   "source": [
    "# Cleaning the Airline column and adding the new data such as premium economy etc to the \"Additional_Info\" column\n",
    "\n",
    "data.loc[data[\"Airline\"]== 'Vistara Premium economy', \"Airline\"]='Vistara'\n",
    "data.loc[data[\"Airline\"]== 'Jet Airways Business', \"Airline\"]='Jet Airways'\n",
    "data.loc[data[\"Airline\"]== 'Multiple carriers Premium economy', \"Airline\"]='Multiple carriers'\n",
    "\n",
    "data.loc[data[\"Airline\"]== 'Vistara Premium economy', \"Additional_Info\"]= \"Premium economy\"\n",
    "data.loc[data[\"Airline\"]== 'Jet Airways Business', \"Additional_Info\"]= \"Business class\"\n",
    "data.loc[data[\"Airline\"]== 'Multiple carriers Premium economy', \"Additional_Info\"]= \"Premium economy\"\n",
    "\n"
   ]
  },
  {
   "cell_type": "code",
   "execution_count": null,
   "id": "d091797d",
   "metadata": {
    "id": "d091797d",
    "outputId": "e9956cb2-0a79-4830-fba6-432520ba64e6"
   },
   "outputs": [
    {
     "data": {
      "text/plain": [
       "Jet Airways          3855\n",
       "IndiGo               2053\n",
       "Air India            1752\n",
       "Multiple carriers    1209\n",
       "SpiceJet              818\n",
       "Vistara               482\n",
       "Air Asia              319\n",
       "GoAir                 194\n",
       "Trujet                  1\n",
       "Name: Airline, dtype: int64"
      ]
     },
     "execution_count": 20,
     "metadata": {},
     "output_type": "execute_result"
    }
   ],
   "source": [
    "data.Airline.value_counts()"
   ]
  },
  {
   "cell_type": "markdown",
   "id": "3c96ec02",
   "metadata": {
    "id": "3c96ec02"
   },
   "source": [
    "### Additional_Info\n",
    "Cleaning this column, we could maybe drop this column if model performance is poor"
   ]
  },
  {
   "cell_type": "code",
   "execution_count": null,
   "id": "7468888c",
   "metadata": {
    "id": "7468888c",
    "outputId": "5ae71a05-15ee-4941-d79f-3efeb400aa4b"
   },
   "outputs": [
    {
     "data": {
      "text/html": [
       "<div>\n",
       "<style scoped>\n",
       "    .dataframe tbody tr th:only-of-type {\n",
       "        vertical-align: middle;\n",
       "    }\n",
       "\n",
       "    .dataframe tbody tr th {\n",
       "        vertical-align: top;\n",
       "    }\n",
       "\n",
       "    .dataframe thead th {\n",
       "        text-align: right;\n",
       "    }\n",
       "</style>\n",
       "<table border=\"1\" class=\"dataframe\">\n",
       "  <thead>\n",
       "    <tr style=\"text-align: right;\">\n",
       "      <th></th>\n",
       "      <th>Airline</th>\n",
       "      <th>Source</th>\n",
       "      <th>Destination</th>\n",
       "      <th>Route</th>\n",
       "      <th>Dep_Time</th>\n",
       "      <th>Arrival_Time</th>\n",
       "      <th>Duration</th>\n",
       "      <th>Total_Stops</th>\n",
       "      <th>Additional_Info</th>\n",
       "      <th>Price</th>\n",
       "      <th>Weekday_of_Journey</th>\n",
       "      <th>Month_of_Journey</th>\n",
       "      <th>Day_of_Journey</th>\n",
       "    </tr>\n",
       "  </thead>\n",
       "  <tbody>\n",
       "    <tr>\n",
       "      <th>0</th>\n",
       "      <td>IndiGo</td>\n",
       "      <td>Banglore</td>\n",
       "      <td>New Delhi</td>\n",
       "      <td>BLR → DEL</td>\n",
       "      <td>22</td>\n",
       "      <td>1</td>\n",
       "      <td>2.83</td>\n",
       "      <td>non-stop</td>\n",
       "      <td>No info</td>\n",
       "      <td>3897</td>\n",
       "      <td>6</td>\n",
       "      <td>3</td>\n",
       "      <td>24</td>\n",
       "    </tr>\n",
       "    <tr>\n",
       "      <th>1</th>\n",
       "      <td>Air India</td>\n",
       "      <td>Kolkata</td>\n",
       "      <td>Banglore</td>\n",
       "      <td>CCU → IXR → BBI → BLR</td>\n",
       "      <td>5</td>\n",
       "      <td>13</td>\n",
       "      <td>7.42</td>\n",
       "      <td>2 stops</td>\n",
       "      <td>No info</td>\n",
       "      <td>7662</td>\n",
       "      <td>5</td>\n",
       "      <td>1</td>\n",
       "      <td>5</td>\n",
       "    </tr>\n",
       "    <tr>\n",
       "      <th>2</th>\n",
       "      <td>Jet Airways</td>\n",
       "      <td>Delhi</td>\n",
       "      <td>Cochin</td>\n",
       "      <td>DEL → LKO → BOM → COK</td>\n",
       "      <td>9</td>\n",
       "      <td>4</td>\n",
       "      <td>19.00</td>\n",
       "      <td>2 stops</td>\n",
       "      <td>No info</td>\n",
       "      <td>13882</td>\n",
       "      <td>4</td>\n",
       "      <td>9</td>\n",
       "      <td>6</td>\n",
       "    </tr>\n",
       "    <tr>\n",
       "      <th>3</th>\n",
       "      <td>IndiGo</td>\n",
       "      <td>Kolkata</td>\n",
       "      <td>Banglore</td>\n",
       "      <td>CCU → NAG → BLR</td>\n",
       "      <td>18</td>\n",
       "      <td>23</td>\n",
       "      <td>5.42</td>\n",
       "      <td>1 stop</td>\n",
       "      <td>No info</td>\n",
       "      <td>6218</td>\n",
       "      <td>3</td>\n",
       "      <td>12</td>\n",
       "      <td>5</td>\n",
       "    </tr>\n",
       "    <tr>\n",
       "      <th>4</th>\n",
       "      <td>IndiGo</td>\n",
       "      <td>Banglore</td>\n",
       "      <td>New Delhi</td>\n",
       "      <td>BLR → NAG → DEL</td>\n",
       "      <td>16</td>\n",
       "      <td>21</td>\n",
       "      <td>4.75</td>\n",
       "      <td>1 stop</td>\n",
       "      <td>No info</td>\n",
       "      <td>13302</td>\n",
       "      <td>3</td>\n",
       "      <td>1</td>\n",
       "      <td>3</td>\n",
       "    </tr>\n",
       "  </tbody>\n",
       "</table>\n",
       "</div>"
      ],
      "text/plain": [
       "       Airline    Source Destination                  Route  Dep_Time  \\\n",
       "0       IndiGo  Banglore   New Delhi              BLR → DEL        22   \n",
       "1    Air India   Kolkata    Banglore  CCU → IXR → BBI → BLR         5   \n",
       "2  Jet Airways     Delhi      Cochin  DEL → LKO → BOM → COK         9   \n",
       "3       IndiGo   Kolkata    Banglore        CCU → NAG → BLR        18   \n",
       "4       IndiGo  Banglore   New Delhi        BLR → NAG → DEL        16   \n",
       "\n",
       "   Arrival_Time  Duration Total_Stops Additional_Info  Price  \\\n",
       "0             1      2.83    non-stop         No info   3897   \n",
       "1            13      7.42     2 stops         No info   7662   \n",
       "2             4     19.00     2 stops         No info  13882   \n",
       "3            23      5.42      1 stop         No info   6218   \n",
       "4            21      4.75      1 stop         No info  13302   \n",
       "\n",
       "   Weekday_of_Journey  Month_of_Journey  Day_of_Journey  \n",
       "0                   6                 3              24  \n",
       "1                   5                 1               5  \n",
       "2                   4                 9               6  \n",
       "3                   3                12               5  \n",
       "4                   3                 1               3  "
      ]
     },
     "execution_count": 21,
     "metadata": {},
     "output_type": "execute_result"
    }
   ],
   "source": [
    "data.head()"
   ]
  },
  {
   "cell_type": "code",
   "execution_count": null,
   "id": "769d30f0",
   "metadata": {
    "id": "769d30f0",
    "outputId": "dfdb00ea-bfcd-4ea2-c821-121a61a5a616"
   },
   "outputs": [
    {
     "data": {
      "text/plain": [
       "No info                         8345\n",
       "In-flight meal not included     1982\n",
       "No check-in baggage included     320\n",
       "1 Long layover                    19\n",
       "Change airports                    7\n",
       "Business class                     4\n",
       "No Info                            3\n",
       "1 Short layover                    1\n",
       "Red-eye flight                     1\n",
       "2 Long layover                     1\n",
       "Name: Additional_Info, dtype: int64"
      ]
     },
     "execution_count": 22,
     "metadata": {},
     "output_type": "execute_result"
    }
   ],
   "source": [
    "data.Additional_Info.value_counts()"
   ]
  },
  {
   "cell_type": "code",
   "execution_count": null,
   "id": "3662c686",
   "metadata": {
    "id": "3662c686"
   },
   "outputs": [],
   "source": [
    "data.loc[data[\"Additional_Info\"]== '1 Long layover', \"Additional_Info\"]= \"Layover\"\n",
    "data.loc[data[\"Additional_Info\"]=='1 Short layover', \"Additional_Info\"]= \"Layover\"\n",
    "data.loc[data[\"Additional_Info\"]=='2 Long layover', \"Additional_Info\"]= \"Layover\""
   ]
  },
  {
   "cell_type": "markdown",
   "id": "616febf8",
   "metadata": {
    "id": "616febf8"
   },
   "source": [
    "Changing \"No Info\" to \"No info since capital letter I unecessarily creates separate label"
   ]
  },
  {
   "cell_type": "code",
   "execution_count": null,
   "id": "91e492ef",
   "metadata": {
    "id": "91e492ef"
   },
   "outputs": [],
   "source": [
    "data.loc[data[\"Additional_Info\"]=='No Info', \"Additional_Info\"]=\"No info\""
   ]
  },
  {
   "cell_type": "markdown",
   "id": "f83006c4",
   "metadata": {
    "id": "f83006c4"
   },
   "source": [
    "As there is only one red eye flight we could put it under No info label which would also prevent creation of an extra dimension."
   ]
  },
  {
   "cell_type": "code",
   "execution_count": null,
   "id": "aa89f864",
   "metadata": {
    "id": "aa89f864"
   },
   "outputs": [],
   "source": [
    "data.loc[data[\"Additional_Info\"]=='Red-eye flight', \"Additional_Info\"]=\"No info\"\n"
   ]
  },
  {
   "cell_type": "code",
   "execution_count": null,
   "id": "7f351912",
   "metadata": {
    "id": "7f351912",
    "outputId": "82987618-fc99-4fa3-b588-2257d589dbdb"
   },
   "outputs": [
    {
     "data": {
      "text/plain": [
       "No info                         8349\n",
       "In-flight meal not included     1982\n",
       "No check-in baggage included     320\n",
       "Layover                           21\n",
       "Change airports                    7\n",
       "Business class                     4\n",
       "Name: Additional_Info, dtype: int64"
      ]
     },
     "execution_count": 26,
     "metadata": {},
     "output_type": "execute_result"
    }
   ],
   "source": [
    "data.Additional_Info.value_counts()"
   ]
  },
  {
   "cell_type": "markdown",
   "id": "a118cec8",
   "metadata": {
    "id": "a118cec8"
   },
   "source": [
    "### Destination\n",
    "- Since Delhi and New Delhi have  the same commercial airport- Indira Gandhi International Airport we can put New Delhi Destination the same as Delhi to avoid creation of different labels. "
   ]
  },
  {
   "cell_type": "code",
   "execution_count": null,
   "id": "64a35afc",
   "metadata": {
    "id": "64a35afc",
    "outputId": "5e8db14d-0913-41d5-d989-181a0552dbaa"
   },
   "outputs": [
    {
     "data": {
      "text/plain": [
       "Cochin       4537\n",
       "Banglore     2871\n",
       "Delhi        1265\n",
       "New Delhi     932\n",
       "Hyderabad     697\n",
       "Kolkata       381\n",
       "Name: Destination, dtype: int64"
      ]
     },
     "execution_count": 27,
     "metadata": {},
     "output_type": "execute_result"
    }
   ],
   "source": [
    "data.Destination.value_counts()"
   ]
  },
  {
   "cell_type": "code",
   "execution_count": null,
   "id": "2944a8b5",
   "metadata": {
    "id": "2944a8b5"
   },
   "outputs": [],
   "source": [
    "data.loc[data[\"Destination\"]==\"New Delhi\", \"Destination\"]= \"Delhi\""
   ]
  },
  {
   "cell_type": "markdown",
   "id": "7729b892",
   "metadata": {
    "id": "7729b892"
   },
   "source": [
    "# EDA"
   ]
  },
  {
   "cell_type": "markdown",
   "id": "c1859e06",
   "metadata": {
    "id": "c1859e06"
   },
   "source": [
    "## Univariate Analysis"
   ]
  },
  {
   "cell_type": "code",
   "execution_count": null,
   "id": "27139b2b",
   "metadata": {
    "id": "27139b2b"
   },
   "outputs": [],
   "source": [
    "# import sweetviz as sv"
   ]
  },
  {
   "cell_type": "code",
   "execution_count": null,
   "id": "19bca799",
   "metadata": {
    "id": "19bca799"
   },
   "outputs": [],
   "source": [
    "# report = sv.analyze(data)\n",
    "# report.show_html()"
   ]
  },
  {
   "cell_type": "markdown",
   "id": "8eff00b1",
   "metadata": {
    "id": "8eff00b1"
   },
   "source": [
    "#### Airline\n",
    "- The top 3 airlines with the highest frequency are Jet Airways(36%), IndiGo(19%) and Air India(16%)\n"
   ]
  },
  {
   "cell_type": "code",
   "execution_count": null,
   "id": "ccaa3b82",
   "metadata": {
    "colab": {
     "base_uri": "https://localhost:8080/",
     "height": 165
    },
    "executionInfo": {
     "elapsed": 18,
     "status": "error",
     "timestamp": 1685866307164,
     "user": {
      "displayName": "Michelle Miranda",
      "userId": "05091863825139547251"
     },
     "user_tz": -330
    },
    "id": "ccaa3b82",
    "outputId": "4732c077-2338-488c-b069-6903f3da2eac"
   },
   "outputs": [
    {
     "ename": "NameError",
     "evalue": "ignored",
     "output_type": "error",
     "traceback": [
      "\u001b[0;31m---------------------------------------------------------------------------\u001b[0m",
      "\u001b[0;31mNameError\u001b[0m                                 Traceback (most recent call last)",
      "\u001b[0;32m<ipython-input-3-4d156cd857b2>\u001b[0m in \u001b[0;36m<cell line: 1>\u001b[0;34m()\u001b[0m\n\u001b[0;32m----> 1\u001b[0;31m \u001b[0mdata\u001b[0m\u001b[0;34m.\u001b[0m\u001b[0mgroupby\u001b[0m\u001b[0;34m(\u001b[0m\u001b[0;34m\"Airline\"\u001b[0m\u001b[0;34m)\u001b[0m\u001b[0;34m.\u001b[0m\u001b[0msize\u001b[0m\u001b[0;34m(\u001b[0m\u001b[0;34m)\u001b[0m\u001b[0;34m.\u001b[0m\u001b[0mplot\u001b[0m\u001b[0;34m(\u001b[0m\u001b[0mkind\u001b[0m\u001b[0;34m=\u001b[0m\u001b[0;34m\"pie\"\u001b[0m\u001b[0;34m,\u001b[0m \u001b[0mtitle\u001b[0m\u001b[0;34m=\u001b[0m\u001b[0;34m\"Airline\"\u001b[0m\u001b[0;34m,\u001b[0m \u001b[0mylabel\u001b[0m\u001b[0;34m=\u001b[0m\u001b[0;34m\"\"\u001b[0m\u001b[0;34m)\u001b[0m\u001b[0;34m\u001b[0m\u001b[0;34m\u001b[0m\u001b[0m\n\u001b[0m",
      "\u001b[0;31mNameError\u001b[0m: name 'data' is not defined"
     ]
    }
   ],
   "source": [
    "data.groupby(\"Airline\").size().plot(kind=\"pie\", title=\"Airline\", ylabel=\"\")\n"
   ]
  },
  {
   "cell_type": "markdown",
   "id": "3b6cbd2a",
   "metadata": {
    "id": "3b6cbd2a"
   },
   "source": [
    "#### Source\n",
    "- The source location for most flights is Delhi(42%) followed by Kolata(27%), Bangalore(21%), Mumbai(7%) and Chennai(4%)."
   ]
  },
  {
   "cell_type": "code",
   "execution_count": null,
   "id": "0b343395",
   "metadata": {
    "id": "0b343395"
   },
   "outputs": [],
   "source": [
    "data.groupby(\"Source\").size().plot(kind=\"pie\", title=\"Source\", ylabel=\"\", autopct='%1.1f%%')"
   ]
  },
  {
   "cell_type": "markdown",
   "id": "0322e7f4",
   "metadata": {
    "id": "0322e7f4"
   },
   "source": [
    "###### Destination\n",
    "- The top 3 destinations are Cochin(42%), Bangalore(27%) and Delhi(20.6%)."
   ]
  },
  {
   "cell_type": "code",
   "execution_count": null,
   "id": "cfbe9981",
   "metadata": {
    "id": "cfbe9981"
   },
   "outputs": [],
   "source": [
    "data.groupby(\"Destination\").size().plot(kind=\"pie\", title=\"Destination\", ylabel=\"\", autopct='%1.1f%%')"
   ]
  },
  {
   "cell_type": "markdown",
   "id": "1cd71bb7",
   "metadata": {
    "id": "1cd71bb7"
   },
   "source": [
    "#### Dep_Time\n",
    "- It is a bimodal distribution with 2 peaks, one in the morning(6:00 - 9:00) and the other in the evening(17:00 - 20:00).\n",
    "- Most flights seem to take-off between 9:00 to 10:00 A.M.\n",
    "- Flight departures are least from 12:00 to 3:00 A.M."
   ]
  },
  {
   "cell_type": "code",
   "execution_count": null,
   "id": "f4c1dd94",
   "metadata": {
    "id": "f4c1dd94"
   },
   "outputs": [],
   "source": [
    "#Using a countplot to see number of observations in each hour\n",
    "sns.countplot(data= data, x=\"Dep_Time\")"
   ]
  },
  {
   "cell_type": "markdown",
   "id": "6bc650fa",
   "metadata": {
    "id": "6bc650fa"
   },
   "source": [
    "#### Arrival_Time\n",
    "- This distribution seems to have 3 peaks at 4:00, 12:00 and 19:00\n",
    "- Most flights seem to land at 19:00 \n",
    "- The time between 12:00 to 6:00 A.M has the least number of arrivals except the time from 4:00-5:00 A.M. This spike could be indicative of red-eye flights which tend to arrive during the early morning hours and are priced cheaper. "
   ]
  },
  {
   "cell_type": "code",
   "execution_count": null,
   "id": "766d9de5",
   "metadata": {
    "id": "766d9de5"
   },
   "outputs": [],
   "source": [
    "sns.countplot(data= data, x=\"Arrival_Time\")"
   ]
  },
  {
   "cell_type": "markdown",
   "id": "abb68378",
   "metadata": {
    "id": "abb68378"
   },
   "source": [
    "#### Duration\n",
    "- Most flight durations are under 3 hours\n",
    "- The maximum flight duration is 47.67 hours \n",
    "- The least value is 0.08 hours which is clearly not possible. This wrongly documented value needs to be handled."
   ]
  },
  {
   "cell_type": "code",
   "execution_count": null,
   "id": "42b1257e",
   "metadata": {
    "id": "42b1257e"
   },
   "outputs": [],
   "source": [
    "sns.histplot(data.Duration, bins = 10)"
   ]
  },
  {
   "cell_type": "markdown",
   "id": "336a399f",
   "metadata": {
    "id": "336a399f"
   },
   "source": [
    "#### Total_Stops\n",
    "- Almost half the flights(53%) have 1- stop followed by non-stop(33%) and 2-stops(14%)\n"
   ]
  },
  {
   "cell_type": "code",
   "execution_count": null,
   "id": "1d611497",
   "metadata": {
    "id": "1d611497"
   },
   "outputs": [],
   "source": [
    "sns.countplot(data=data, x=\"Total_Stops\")"
   ]
  },
  {
   "cell_type": "markdown",
   "id": "8401e3f5",
   "metadata": {
    "id": "8401e3f5"
   },
   "source": [
    "#### Additional_Info\n",
    "- This feature doesn't seem to provide much information since 78% obs are \"No info\""
   ]
  },
  {
   "cell_type": "markdown",
   "id": "78079a6d",
   "metadata": {
    "id": "78079a6d"
   },
   "source": [
    "#### Weekday_ of_Journey\n",
    "- The most frequently travelled day is Thursday(21%), followed by Friday(17%) and Wednesday(15%)\n",
    "- Sunday is the least frequently travelled day\n",
    "- This feature doesnt show much variation \n"
   ]
  },
  {
   "cell_type": "code",
   "execution_count": null,
   "id": "4bf8fbff",
   "metadata": {
    "id": "4bf8fbff"
   },
   "outputs": [],
   "source": [
    "plt.figure(figsize=(8,5))\n",
    "sns.countplot(data=data, x=data.Weekday_of_Journey)"
   ]
  },
  {
   "cell_type": "markdown",
   "id": "0c1f6d19",
   "metadata": {
    "id": "0c1f6d19"
   },
   "source": [
    "#### Month_of_Journey\n",
    "- The most frequently travelled months are June(24%), March(21%) & May(19%) \n",
    "- April is the least travelled month with 4% observations"
   ]
  },
  {
   "cell_type": "code",
   "execution_count": null,
   "id": "2284185a",
   "metadata": {
    "id": "2284185a"
   },
   "outputs": [],
   "source": [
    "plt.figure(figsize=(8,5))\n",
    "sns.countplot(data=data, x=data.Month_of_Journey)"
   ]
  },
  {
   "cell_type": "markdown",
   "id": "31550b79",
   "metadata": {
    "id": "31550b79"
   },
   "source": [
    "#### Day_of_Journey\n",
    "- The 6th day of the month seems to be the most popular day for travel\n",
    "- The feature doesnt contain observations for all the days of the month and has only 9 unique values\n"
   ]
  },
  {
   "cell_type": "code",
   "execution_count": null,
   "id": "28f19492",
   "metadata": {
    "id": "28f19492"
   },
   "outputs": [],
   "source": [
    "sns.countplot(data=data, x=data.Day_of_Journey)"
   ]
  },
  {
   "cell_type": "markdown",
   "id": "7bd26de9",
   "metadata": {
    "id": "7bd26de9"
   },
   "source": [
    "## Bivariate Analysis"
   ]
  },
  {
   "cell_type": "code",
   "execution_count": null,
   "id": "7951ec9a",
   "metadata": {
    "id": "7951ec9a"
   },
   "outputs": [],
   "source": [
    "\n",
    "\n",
    "# from autoviz.AutoViz_Class import AutoViz_Class\n",
    "\n",
    "# AV = AutoViz_Class()\n",
    "\n",
    "# report = AV.AutoViz('', depVar=\"Price\",dfte=data,header=0,verbose=1,lowess=False,chart_format=\"html\",save_plot_dir=None)\n",
    "   "
   ]
  },
  {
   "cell_type": "code",
   "execution_count": null,
   "id": "10803914",
   "metadata": {
    "id": "10803914"
   },
   "outputs": [],
   "source": [
    "data.head()"
   ]
  },
  {
   "cell_type": "markdown",
   "id": "44e1aa3a",
   "metadata": {
    "id": "44e1aa3a"
   },
   "source": [
    "### Airline vs Price"
   ]
  },
  {
   "cell_type": "code",
   "execution_count": null,
   "id": "be56394c",
   "metadata": {
    "id": "be56394c"
   },
   "outputs": [],
   "source": [
    "plt.figure(figsize=(14,7))\n",
    "sns.violinplot(x=\"Airline\", y=\"Price\", data=data)\n",
    "\n",
    "plt.figure(figsize=(12,7))\n",
    "sns.barplot(x=\"Airline\", y=\"Price\", data=data)"
   ]
  },
  {
   "cell_type": "markdown",
   "id": "a3f9aeea",
   "metadata": {
    "id": "a3f9aeea"
   },
   "source": [
    "- Jet Airways is the airline with the highest prices and has extreme values that go upto 80,000. The violin plot shows most of its values are distributed in the higer price range as compared to other airlines.\n",
    "- Indigo, SpiceJet, GoAir and AirAsia are the more economically priced airlines with most of the observations distributed in the lower ranges- mostly below 10,000. The violin plot of SpiceJet shows a sharp peak indicating most of its observations are distributed around the 5000 rupuees mark.\n",
    "- AirIndia, Multiple carriers and Vistara seem to have more premium prices. Vistara's violin plot shows 3 peaks and seems to cater to economical as well as premium and business class prices."
   ]
  },
  {
   "cell_type": "markdown",
   "id": "eb357ae1",
   "metadata": {
    "id": "eb357ae1"
   },
   "source": [
    "### Source vs Price"
   ]
  },
  {
   "cell_type": "code",
   "execution_count": null,
   "id": "3067cceb",
   "metadata": {
    "id": "3067cceb"
   },
   "outputs": [],
   "source": [
    "plt.figure(figsize=(8,5))\n",
    "sns.barplot(x=\"Source\", y=\"Price\", data=data)\n",
    "\n",
    "plt.figure(figsize=(10,6))\n",
    "sns.violinplot(x=\"Source\", y=\"Price\", data=data)"
   ]
  },
  {
   "cell_type": "markdown",
   "id": "6463c8b7",
   "metadata": {
    "id": "6463c8b7"
   },
   "source": [
    "- Flights leaving from Delhi have higher prices as compared to other places.\n",
    "- Most flights leaving from Chennai, Mumbai and Bamgalore are cheaper and fall near the 5000 rupees mark. \n",
    "- The violin plots of Kolkata and Delhi show 3 peaks- with similar frequency peaks of obs in lower, medium and high price ranges.  "
   ]
  },
  {
   "cell_type": "markdown",
   "id": "cc815733",
   "metadata": {
    "id": "cc815733"
   },
   "source": [
    "### Destination vs Price"
   ]
  },
  {
   "cell_type": "code",
   "execution_count": null,
   "id": "b92f4897",
   "metadata": {
    "id": "b92f4897"
   },
   "outputs": [],
   "source": [
    "plt.figure(figsize=(8,5))\n",
    "sns.barplot(x=\"Destination\", y=\"Price\", data=data) #Barplots uses average as plotting criteria \n",
    "\n",
    "plt.figure(figsize=(10,6))\n",
    "sns.violinplot(x=\"Destination\", y=\"Price\", data=data)"
   ]
  },
  {
   "cell_type": "markdown",
   "id": "0c865c47",
   "metadata": {
    "id": "0c865c47"
   },
   "source": [
    "- Flights landing at Cochin are more expensive than other destinations\n",
    "- Flights with destinations as Delhi, Kolkata and Hyderabad have most observations in the lower price range at around the 5000 ruppes mark. Delhi has some extreme high price values.\n",
    "- Cochin and Bangalore show 3 peaks in the violin plot with its observations peaking in the low, mid and high price range."
   ]
  },
  {
   "cell_type": "markdown",
   "id": "c127aa36",
   "metadata": {
    "id": "c127aa36"
   },
   "source": [
    "### Dep_Time vs Price"
   ]
  },
  {
   "cell_type": "code",
   "execution_count": null,
   "id": "6cca6c6a",
   "metadata": {
    "id": "6cca6c6a"
   },
   "outputs": [],
   "source": [
    "plt.figure(figsize=(10,6))\n",
    "sns.scatterplot(x=\"Dep_Time\", y=\"Price\", data=data)\n",
    "\n",
    "plt.figure(figsize=(10,6))\n",
    "sns.barplot(x=\"Dep_Time\", y=\"Price\", data=data)\n"
   ]
  },
  {
   "cell_type": "markdown",
   "id": "19baeda8",
   "metadata": {
    "id": "19baeda8"
   },
   "source": [
    "- Prices are higher for flights departing from 5:00 a.m to 9:00 a.m, 11:00 a.m, 2:00 p.m, 5:00 to 6:00 p.m, thus flights departing in the mid morning and evening hours tend to have higher prices.\n",
    "- Flights deprating before 4:00 a.m have relatively lower prices.\n",
    "- The prices don't seem to drastically fluctuate with most values lying below 10,000."
   ]
  },
  {
   "cell_type": "code",
   "execution_count": null,
   "id": "cf019319",
   "metadata": {
    "id": "cf019319"
   },
   "outputs": [],
   "source": [
    "plt.figure(figsize=(10,6))\n",
    "sns.scatterplot(x=\"Arrival_Time\", y=\"Price\", data=data)"
   ]
  },
  {
   "cell_type": "markdown",
   "id": "d10ba87d",
   "metadata": {
    "id": "d10ba87d"
   },
   "source": [
    "- Flights arriving in the mornng and evening hours have higher prices"
   ]
  },
  {
   "cell_type": "markdown",
   "id": "f2ad79a4",
   "metadata": {
    "id": "f2ad79a4"
   },
   "source": [
    "### Duration vs Price"
   ]
  },
  {
   "cell_type": "code",
   "execution_count": null,
   "id": "ce396cdd",
   "metadata": {
    "id": "ce396cdd"
   },
   "outputs": [],
   "source": [
    "plt.figure(figsize=(14,6))\n",
    "sns.scatterplot(x=\"Duration\", y=\"Price\", data=data)\n"
   ]
  },
  {
   "cell_type": "markdown",
   "id": "378b785c",
   "metadata": {
    "id": "378b785c"
   },
   "source": [
    "- Flight prices show a slight increase with duration"
   ]
  },
  {
   "cell_type": "markdown",
   "id": "282f631d",
   "metadata": {
    "id": "282f631d"
   },
   "source": [
    "### Total_Stops vs Price"
   ]
  },
  {
   "cell_type": "code",
   "execution_count": null,
   "id": "f94ff825",
   "metadata": {
    "id": "f94ff825"
   },
   "outputs": [],
   "source": [
    "plt.figure(figsize=(8,5))\n",
    "sns.barplot(x=\"Total_Stops\", y=\"Price\", data=data) "
   ]
  },
  {
   "cell_type": "markdown",
   "id": "e9c4755c",
   "metadata": {
    "id": "e9c4755c"
   },
   "source": [
    "- We can infer from the plot that in general, the more the number of stops the greater the flight fare prices.\n"
   ]
  },
  {
   "cell_type": "markdown",
   "id": "c09ec68d",
   "metadata": {
    "id": "c09ec68d"
   },
   "source": [
    "### Additional_Info vs Price"
   ]
  },
  {
   "cell_type": "code",
   "execution_count": null,
   "id": "c53ad657",
   "metadata": {
    "id": "c53ad657"
   },
   "outputs": [],
   "source": [
    "plt.figure(figsize=(16,5))\n",
    "sns.barplot(x=\"Additional_Info\", y=\"Price\", data=data) \n",
    "\n"
   ]
  },
  {
   "cell_type": "markdown",
   "id": "f085581b",
   "metadata": {
    "id": "f085581b"
   },
   "source": [
    "- Flights with a business class type seat have significantly higher prices\n",
    "- Flights with layover and airport changes have high prices as well"
   ]
  },
  {
   "cell_type": "markdown",
   "id": "c990624b",
   "metadata": {
    "id": "c990624b"
   },
   "source": [
    "### Weekday_of_Journey vs Price\n"
   ]
  },
  {
   "cell_type": "code",
   "execution_count": null,
   "id": "a87ba8b7",
   "metadata": {
    "id": "a87ba8b7"
   },
   "outputs": [],
   "source": [
    "plt.figure(figsize=(8,5))\n",
    "sns.scatterplot(x=\"Weekday_of_Journey\", y=\"Price\", data=data) \n",
    "\n",
    "plt.figure(figsize=(8,5))\n",
    "sns.barplot(x=\"Weekday_of_Journey\", y=\"Price\", data=data) "
   ]
  },
  {
   "cell_type": "markdown",
   "id": "16fe4d45",
   "metadata": {
    "id": "16fe4d45"
   },
   "source": [
    "- Flights scheduled for Thursday seem to have higher prices\n",
    "- Saturday, Friday  and Wednesday seem to have lower fares as compared to other weekdays\n",
    "- Prices dont seem to fluctuate much based on day of the week"
   ]
  },
  {
   "cell_type": "markdown",
   "id": "df6ccade",
   "metadata": {
    "id": "df6ccade"
   },
   "source": [
    "### Month_of_Journey vs Price"
   ]
  },
  {
   "cell_type": "code",
   "execution_count": null,
   "id": "9e02b4d3",
   "metadata": {
    "id": "9e02b4d3"
   },
   "outputs": [],
   "source": [
    "plt.figure(figsize=(10,5))\n",
    "sns.scatterplot(x=\"Month_of_Journey\", y=\"Price\", data=data)\n",
    "\n",
    "plt.figure(figsize=(8,5))\n",
    "sns.barplot(x=\"Month_of_Journey\", y=\"Price\", data=data) "
   ]
  },
  {
   "cell_type": "markdown",
   "id": "109851bc",
   "metadata": {
    "id": "109851bc"
   },
   "source": [
    "- Fares are highest during the month of January\n",
    "- Except April, which has the lowest prices, all the months seem to hace a similar price range without any major fluctuations."
   ]
  },
  {
   "cell_type": "markdown",
   "id": "c717fd41",
   "metadata": {
    "id": "c717fd41"
   },
   "source": [
    "### Day_of_Journey vs Price\n",
    "\n"
   ]
  },
  {
   "cell_type": "code",
   "execution_count": null,
   "id": "cc4dfe41",
   "metadata": {
    "id": "cc4dfe41"
   },
   "outputs": [],
   "source": [
    "plt.figure(figsize=(10,5))\n",
    "sns.scatterplot(x=\"Day_of_Journey\", y=\"Price\", data=data)\n",
    "\n",
    "plt.figure(figsize=(8,5))\n",
    "sns.barplot(x=\"Day_of_Journey\", y=\"Price\", data=data) "
   ]
  },
  {
   "cell_type": "markdown",
   "id": "6de82243",
   "metadata": {
    "id": "6de82243"
   },
   "source": [
    "- Prices during first few days of the month are higher as compared to days at the end of the month"
   ]
  },
  {
   "cell_type": "markdown",
   "id": "43664877",
   "metadata": {
    "id": "43664877"
   },
   "source": [
    "# Data Preprocessing"
   ]
  },
  {
   "cell_type": "markdown",
   "id": "7569d748",
   "metadata": {
    "id": "7569d748"
   },
   "source": [
    "## Missing values"
   ]
  },
  {
   "cell_type": "code",
   "execution_count": null,
   "id": "dab39757",
   "metadata": {
    "id": "dab39757",
    "outputId": "a662cded-6c8c-4697-e6d1-b87dce8c24a8"
   },
   "outputs": [
    {
     "data": {
      "text/plain": [
       "Airline               0\n",
       "Source                0\n",
       "Destination           0\n",
       "Route                 1\n",
       "Dep_Time              0\n",
       "Arrival_Time          0\n",
       "Duration              0\n",
       "Total_Stops           1\n",
       "Additional_Info       0\n",
       "Price                 0\n",
       "Weekday_of_Journey    0\n",
       "Month_of_Journey      0\n",
       "Day_of_Journey        0\n",
       "dtype: int64"
      ]
     },
     "execution_count": 34,
     "metadata": {},
     "output_type": "execute_result"
    }
   ],
   "source": [
    "data.isnull().sum()"
   ]
  },
  {
   "cell_type": "code",
   "execution_count": null,
   "id": "0ab7a532",
   "metadata": {
    "id": "0ab7a532"
   },
   "outputs": [],
   "source": [
    "# Since there is only one missing value we can drop the row\n",
    "\n",
    "data.dropna(inplace=True)"
   ]
  },
  {
   "cell_type": "code",
   "execution_count": null,
   "id": "3db2fd60",
   "metadata": {
    "id": "3db2fd60",
    "outputId": "972603b4-c4f2-4bfb-9e1e-661f02c844f3"
   },
   "outputs": [
    {
     "data": {
      "text/plain": [
       "Airline               0\n",
       "Source                0\n",
       "Destination           0\n",
       "Route                 0\n",
       "Dep_Time              0\n",
       "Arrival_Time          0\n",
       "Duration              0\n",
       "Total_Stops           0\n",
       "Additional_Info       0\n",
       "Price                 0\n",
       "Weekday_of_Journey    0\n",
       "Month_of_Journey      0\n",
       "Day_of_Journey        0\n",
       "dtype: int64"
      ]
     },
     "execution_count": 36,
     "metadata": {},
     "output_type": "execute_result"
    }
   ],
   "source": [
    "data.isnull().sum()"
   ]
  },
  {
   "cell_type": "markdown",
   "id": "de951173",
   "metadata": {
    "id": "de951173"
   },
   "source": [
    "## Outliers"
   ]
  },
  {
   "cell_type": "code",
   "execution_count": null,
   "id": "1999edf5",
   "metadata": {
    "id": "1999edf5"
   },
   "outputs": [],
   "source": [
    "# Since duration has an impossible and extreme value of flight duration = 0.08 we remove this obs\n",
    "data.drop(data.loc[(data.Duration<=0.1)].index, axis=0, inplace=True)"
   ]
  },
  {
   "cell_type": "markdown",
   "id": "6a3dc148",
   "metadata": {
    "id": "6a3dc148"
   },
   "source": [
    "Tree based algorithms are robust to outliers"
   ]
  },
  {
   "cell_type": "markdown",
   "id": "6fbe44a2",
   "metadata": {
    "id": "6fbe44a2"
   },
   "source": [
    "## Handling Categorical Data"
   ]
  },
  {
   "cell_type": "code",
   "execution_count": null,
   "id": "12ffa8e3",
   "metadata": {
    "id": "12ffa8e3",
    "outputId": "615eb17d-ecfc-4efb-c577-f87cc39f5f88"
   },
   "outputs": [
    {
     "data": {
      "text/html": [
       "<div>\n",
       "<style scoped>\n",
       "    .dataframe tbody tr th:only-of-type {\n",
       "        vertical-align: middle;\n",
       "    }\n",
       "\n",
       "    .dataframe tbody tr th {\n",
       "        vertical-align: top;\n",
       "    }\n",
       "\n",
       "    .dataframe thead th {\n",
       "        text-align: right;\n",
       "    }\n",
       "</style>\n",
       "<table border=\"1\" class=\"dataframe\">\n",
       "  <thead>\n",
       "    <tr style=\"text-align: right;\">\n",
       "      <th></th>\n",
       "      <th>Airline</th>\n",
       "      <th>Source</th>\n",
       "      <th>Destination</th>\n",
       "      <th>Route</th>\n",
       "      <th>Dep_Time</th>\n",
       "      <th>Arrival_Time</th>\n",
       "      <th>Duration</th>\n",
       "      <th>Total_Stops</th>\n",
       "      <th>Additional_Info</th>\n",
       "      <th>Price</th>\n",
       "      <th>Weekday_of_Journey</th>\n",
       "      <th>Month_of_Journey</th>\n",
       "      <th>Day_of_Journey</th>\n",
       "    </tr>\n",
       "  </thead>\n",
       "  <tbody>\n",
       "    <tr>\n",
       "      <th>0</th>\n",
       "      <td>IndiGo</td>\n",
       "      <td>Banglore</td>\n",
       "      <td>Delhi</td>\n",
       "      <td>BLR → DEL</td>\n",
       "      <td>22</td>\n",
       "      <td>1</td>\n",
       "      <td>2.83</td>\n",
       "      <td>non-stop</td>\n",
       "      <td>No info</td>\n",
       "      <td>3897</td>\n",
       "      <td>6</td>\n",
       "      <td>3</td>\n",
       "      <td>24</td>\n",
       "    </tr>\n",
       "    <tr>\n",
       "      <th>1</th>\n",
       "      <td>Air India</td>\n",
       "      <td>Kolkata</td>\n",
       "      <td>Banglore</td>\n",
       "      <td>CCU → IXR → BBI → BLR</td>\n",
       "      <td>5</td>\n",
       "      <td>13</td>\n",
       "      <td>7.42</td>\n",
       "      <td>2 stops</td>\n",
       "      <td>No info</td>\n",
       "      <td>7662</td>\n",
       "      <td>5</td>\n",
       "      <td>1</td>\n",
       "      <td>5</td>\n",
       "    </tr>\n",
       "    <tr>\n",
       "      <th>2</th>\n",
       "      <td>Jet Airways</td>\n",
       "      <td>Delhi</td>\n",
       "      <td>Cochin</td>\n",
       "      <td>DEL → LKO → BOM → COK</td>\n",
       "      <td>9</td>\n",
       "      <td>4</td>\n",
       "      <td>19.00</td>\n",
       "      <td>2 stops</td>\n",
       "      <td>No info</td>\n",
       "      <td>13882</td>\n",
       "      <td>4</td>\n",
       "      <td>9</td>\n",
       "      <td>6</td>\n",
       "    </tr>\n",
       "    <tr>\n",
       "      <th>3</th>\n",
       "      <td>IndiGo</td>\n",
       "      <td>Kolkata</td>\n",
       "      <td>Banglore</td>\n",
       "      <td>CCU → NAG → BLR</td>\n",
       "      <td>18</td>\n",
       "      <td>23</td>\n",
       "      <td>5.42</td>\n",
       "      <td>1 stop</td>\n",
       "      <td>No info</td>\n",
       "      <td>6218</td>\n",
       "      <td>3</td>\n",
       "      <td>12</td>\n",
       "      <td>5</td>\n",
       "    </tr>\n",
       "    <tr>\n",
       "      <th>4</th>\n",
       "      <td>IndiGo</td>\n",
       "      <td>Banglore</td>\n",
       "      <td>Delhi</td>\n",
       "      <td>BLR → NAG → DEL</td>\n",
       "      <td>16</td>\n",
       "      <td>21</td>\n",
       "      <td>4.75</td>\n",
       "      <td>1 stop</td>\n",
       "      <td>No info</td>\n",
       "      <td>13302</td>\n",
       "      <td>3</td>\n",
       "      <td>1</td>\n",
       "      <td>3</td>\n",
       "    </tr>\n",
       "  </tbody>\n",
       "</table>\n",
       "</div>"
      ],
      "text/plain": [
       "       Airline    Source Destination                  Route  Dep_Time  \\\n",
       "0       IndiGo  Banglore       Delhi              BLR → DEL        22   \n",
       "1    Air India   Kolkata    Banglore  CCU → IXR → BBI → BLR         5   \n",
       "2  Jet Airways     Delhi      Cochin  DEL → LKO → BOM → COK         9   \n",
       "3       IndiGo   Kolkata    Banglore        CCU → NAG → BLR        18   \n",
       "4       IndiGo  Banglore       Delhi        BLR → NAG → DEL        16   \n",
       "\n",
       "   Arrival_Time  Duration Total_Stops Additional_Info  Price  \\\n",
       "0             1      2.83    non-stop         No info   3897   \n",
       "1            13      7.42     2 stops         No info   7662   \n",
       "2             4     19.00     2 stops         No info  13882   \n",
       "3            23      5.42      1 stop         No info   6218   \n",
       "4            21      4.75      1 stop         No info  13302   \n",
       "\n",
       "   Weekday_of_Journey  Month_of_Journey  Day_of_Journey  \n",
       "0                   6                 3              24  \n",
       "1                   5                 1               5  \n",
       "2                   4                 9               6  \n",
       "3                   3                12               5  \n",
       "4                   3                 1               3  "
      ]
     },
     "execution_count": 38,
     "metadata": {},
     "output_type": "execute_result"
    }
   ],
   "source": [
    "data.head()"
   ]
  },
  {
   "cell_type": "markdown",
   "id": "2671e618",
   "metadata": {
    "id": "2671e618"
   },
   "source": [
    "### Frequency encoding for Airline, Route and Additional_Info"
   ]
  },
  {
   "cell_type": "code",
   "execution_count": null,
   "id": "2090c499",
   "metadata": {
    "id": "2090c499"
   },
   "outputs": [],
   "source": [
    "airline_freq = round(data.groupby(\"Airline\").size()/len(data),2)"
   ]
  },
  {
   "cell_type": "code",
   "execution_count": null,
   "id": "8b3f1ea9",
   "metadata": {
    "id": "8b3f1ea9",
    "outputId": "a8400baf-688d-44e9-82aa-a7238ccd5c99"
   },
   "outputs": [
    {
     "data": {
      "text/plain": [
       "Airline\n",
       "Air Asia              319\n",
       "Air India            1750\n",
       "GoAir                 194\n",
       "IndiGo               2053\n",
       "Jet Airways          3855\n",
       "Multiple carriers    1209\n",
       "SpiceJet              818\n",
       "Trujet                  1\n",
       "Vistara               482\n",
       "dtype: int64"
      ]
     },
     "execution_count": 40,
     "metadata": {},
     "output_type": "execute_result"
    }
   ],
   "source": [
    "data.groupby(\"Airline\").size()"
   ]
  },
  {
   "cell_type": "code",
   "execution_count": null,
   "id": "ad30b4c5",
   "metadata": {
    "id": "ad30b4c5",
    "outputId": "df5a864d-299e-4298-d26d-6bebb08d18fd"
   },
   "outputs": [
    {
     "data": {
      "text/plain": [
       "Airline\n",
       "Air Asia             0.03\n",
       "Air India            0.16\n",
       "GoAir                0.02\n",
       "IndiGo               0.19\n",
       "Jet Airways          0.36\n",
       "Multiple carriers    0.11\n",
       "SpiceJet             0.08\n",
       "Trujet               0.00\n",
       "Vistara              0.05\n",
       "dtype: float64"
      ]
     },
     "execution_count": 41,
     "metadata": {},
     "output_type": "execute_result"
    }
   ],
   "source": [
    "airline_freq"
   ]
  },
  {
   "cell_type": "code",
   "execution_count": null,
   "id": "d8c57e98",
   "metadata": {
    "id": "d8c57e98"
   },
   "outputs": [],
   "source": [
    "data.Airline = data.Airline.map(airline_freq)\n"
   ]
  },
  {
   "cell_type": "code",
   "execution_count": null,
   "id": "ce28028f",
   "metadata": {
    "id": "ce28028f",
    "outputId": "444d7054-3126-4c87-f5e9-0350cdade653"
   },
   "outputs": [
    {
     "data": {
      "text/plain": [
       "Additional_Info\n",
       "Business class                  0.00\n",
       "Change airports                 0.00\n",
       "In-flight meal not included     0.19\n",
       "Layover                         0.00\n",
       "No check-in baggage included    0.03\n",
       "No info                         0.78\n",
       "dtype: float64"
      ]
     },
     "execution_count": 43,
     "metadata": {},
     "output_type": "execute_result"
    }
   ],
   "source": [
    "additional_freq = round(data.groupby(\"Additional_Info\").size()/len(data),2)\n",
    "data.Additional_Info = data.Additional_Info.map(additional_freq)\n",
    "additional_freq"
   ]
  },
  {
   "cell_type": "code",
   "execution_count": null,
   "id": "b721c6eb",
   "metadata": {
    "id": "b721c6eb",
    "outputId": "5fbd67c9-8786-435b-f8a5-bdcbc0b750a3"
   },
   "outputs": [
    {
     "data": {
      "text/plain": [
       "DEL → BOM → COK                      2376\n",
       "BLR → DEL                            1552\n",
       "CCU → BOM → BLR                       979\n",
       "CCU → BLR                             724\n",
       "BOM → HYD                             621\n",
       "CCU → DEL → BLR                       565\n",
       "BLR → BOM → DEL                       402\n",
       "MAA → CCU                             381\n",
       "DEL → HYD → COK                       326\n",
       "DEL → JAI → BOM → COK                 240\n",
       "DEL → BLR → COK                       232\n",
       "DEL → COK                             213\n",
       "DEL → AMD → BOM → COK                 205\n",
       "DEL → MAA → COK                       146\n",
       "DEL → IDR → BOM → COK                  99\n",
       "DEL → HYD → MAA → COK                  83\n",
       "DEL → NAG → BOM → COK                  71\n",
       "CCU → MAA → BLR                        65\n",
       "DEL → GOI → BOM → COK                  58\n",
       "DEL → HYD → BOM → COK                  56\n",
       "CCU → HYD → BLR                        53\n",
       "CCU → BBI → BLR                        50\n",
       "DEL → BHO → BOM → COK                  50\n",
       "CCU → IXR → DEL → BLR                  46\n",
       "DEL → CCU → BOM → COK                  44\n",
       "DEL → PNQ → COK                        42\n",
       "CCU → BBI → BOM → BLR                  42\n",
       "CCU → GAU → BLR                        41\n",
       "DEL → LKO → BOM → COK                  41\n",
       "DEL → ATQ → BOM → COK                  40\n",
       "CCU → GAU → DEL → BLR                  39\n",
       "DEL → JDH → BOM → COK                  37\n",
       "BLR → HYD → DEL                        37\n",
       "CCU → DEL → COK → BLR                  36\n",
       "BOM → DEL → HYD                        33\n",
       "CCU → BOM → COK → BLR                  30\n",
       "BLR → MAA → DEL                        29\n",
       "DEL → BDQ → BOM → COK                  28\n",
       "DEL → AMD → COK                        25\n",
       "CCU → DEL → AMD → BLR                  21\n",
       "CCU → IXB → BLR                        20\n",
       "CCU → PNQ → BLR                        19\n",
       "BLR → AMD → DEL                        18\n",
       "DEL → UDR → BOM → COK                  18\n",
       "DEL → LKO → COK                        17\n",
       "DEL → RPR → NAG → BOM → COK            17\n",
       "CCU → BOM → GOI → BLR                  16\n",
       "DEL → MAA → BOM → COK                  16\n",
       "DEL → TRV → COK                        16\n",
       "BLR → COK → DEL                        15\n",
       "DEL → IXC → BOM → COK                  13\n",
       "CCU → JAI → BOM → BLR                  13\n",
       "DEL → IXU → BOM → COK                  12\n",
       "BLR → CCU → DEL                        11\n",
       "CCU → AMD → BLR                        11\n",
       "BLR → BOM → BHO → DEL                  11\n",
       "BLR → CCU → GAU → DEL                  11\n",
       "BLR → BOM → NAG → DEL                  10\n",
       "CCU → PAT → BLR                        10\n",
       "BLR → HYD → VGA → DEL                  10\n",
       "CCU → KNU → BLR                        10\n",
       "CCU → VNS → DEL → BLR                  10\n",
       "CCU → BBI → HYD → BLR                   9\n",
       "BLR → VGA → DEL                         9\n",
       "CCU → BOM → AMD → BLR                   9\n",
       "CCU → NAG → BLR                         9\n",
       "DEL → GWL → IDR → BOM → COK             8\n",
       "BLR → BDQ → DEL                         8\n",
       "BLR → GOI → DEL                         7\n",
       "BOM → BHO → DEL → HYD                   7\n",
       "CCU → JAI → DEL → BLR                   6\n",
       "CCU → BOM → HBX → BLR                   6\n",
       "BLR → BOM → JDH → DEL                   6\n",
       "CCU → IXR → BBI → BLR                   6\n",
       "BLR → BBI → DEL                         5\n",
       "BLR → IDR → DEL                         5\n",
       "BLR → CCU → BBI → DEL                   5\n",
       "BOM → GOI → PNQ → HYD                   5\n",
       "BLR → PNQ → DEL                         5\n",
       "BLR → BOM → IDR → DEL                   5\n",
       "DEL → BBI → COK                         5\n",
       "BLR → BOM → AMD → DEL                   5\n",
       "CCU → GAU → IMF → DEL → BLR             5\n",
       "CCU → DEL → COK → TRV → BLR             4\n",
       "CCU → DEL → VGA → BLR                   4\n",
       "CCU → BOM → PNQ → BLR                   4\n",
       "BLR → VGA → HYD → DEL                   4\n",
       "BOM → AMD → ISK → HYD                   4\n",
       "BLR → NAG → DEL                         3\n",
       "BLR → GAU → DEL                         3\n",
       "BOM → MAA → HYD                         3\n",
       "BOM → JDH → DEL → HYD                   3\n",
       "BLR → LKO → DEL                         3\n",
       "BOM → BLR → HYD                         3\n",
       "BLR → BOM → UDR → DEL                   3\n",
       "BLR → VGA → VTZ → DEL                   2\n",
       "BLR → STV → DEL                         2\n",
       "BOM → IDR → DEL → HYD                   2\n",
       "BLR → TRV → COK → DEL                   2\n",
       "BOM → BDQ → DEL → HYD                   2\n",
       "DEL → DED → BOM → COK                   2\n",
       "CCU → BOM → TRV → BLR                   2\n",
       "BLR → BOM → IDR → GWL → DEL             2\n",
       "CCU → BBI → IXR → DEL → BLR             2\n",
       "BLR → CCU → BBI → HYD → DEL             2\n",
       "BOM → RPR → VTZ → HYD                   1\n",
       "BLR → CCU → BBI → HYD → VGA → DEL       1\n",
       "BLR → BOM → IXC → DEL                   1\n",
       "BLR → HBX → BOM → NAG → DEL             1\n",
       "BOM → VNS → DEL → HYD                   1\n",
       "BOM → JAI → DEL → HYD                   1\n",
       "CCU → IXB → DEL → BLR                   1\n",
       "BOM → GOI → HYD                         1\n",
       "BOM → DED → DEL → HYD                   1\n",
       "BLR → HBX → BOM → AMD → DEL             1\n",
       "BLR → HBX → BOM → BHO → DEL             1\n",
       "CCU → IXA → BLR                         1\n",
       "BOM → NDC → HYD                         1\n",
       "BOM → UDR → DEL → HYD                   1\n",
       "BOM → JLR → HYD                         1\n",
       "BOM → JDH → JAI → DEL → HYD             1\n",
       "BOM → BLR → CCU → BBI → HYD             1\n",
       "CCU → RPR → HYD → BLR                   1\n",
       "CCU → VTZ → BLR                         1\n",
       "CCU → IXZ → MAA → BLR                   1\n",
       "BOM → COK → MAA → HYD                   1\n",
       "BOM → CCU → HYD                         1\n",
       "BOM → BBI → HYD                         1\n",
       "Name: Route, dtype: int64"
      ]
     },
     "execution_count": 44,
     "metadata": {},
     "output_type": "execute_result"
    }
   ],
   "source": [
    "pd.options.display.max_rows = 4000\n",
    "data.Route.value_counts()"
   ]
  },
  {
   "cell_type": "markdown",
   "id": "4984d6fa",
   "metadata": {
    "id": "4984d6fa"
   },
   "source": [
    "Since Route column has very high cardinality (128 unique labels) we can consider the top 9 labels (routes) and group the remaining under 'Other' and then apply frequency encoding. The top 9 labels contain almost 80% of the observations."
   ]
  },
  {
   "cell_type": "code",
   "execution_count": null,
   "id": "fd6551b6",
   "metadata": {
    "id": "fd6551b6",
    "outputId": "f3f8a7a8-c132-46e9-fe0a-25858481be36"
   },
   "outputs": [
    {
     "data": {
      "text/plain": [
       "Other              2755\n",
       "DEL → BOM → COK    2376\n",
       "BLR → DEL          1552\n",
       "CCU → BOM → BLR     979\n",
       "CCU → BLR           724\n",
       "BOM → HYD           621\n",
       "CCU → DEL → BLR     565\n",
       "BLR → BOM → DEL     402\n",
       "MAA → CCU           381\n",
       "DEL → HYD → COK     326\n",
       "Name: Route, dtype: int64"
      ]
     },
     "execution_count": 45,
     "metadata": {},
     "output_type": "execute_result"
    }
   ],
   "source": [
    "# Code to covert routes other than the top 9 freqently travelled routes to \"Others\"\n",
    "route_list=data.Route.tolist()\n",
    "top_routes= [\"DEL → BOM → COK\",\"BLR → DEL\",\"CCU → BOM → BLR\",\"CCU → BLR\",\"BOM → HYD\",\"CCU → DEL → BLR\",\"BLR → BOM → DEL\",\"MAA → CCU\",\"DEL → HYD → COK\"] \n",
    "\n",
    "\n",
    "for route in route_list:\n",
    "    if route not in top_routes:\n",
    "        data.loc[data.Route==route, \"Route\"]=\"Other\"\n",
    "\n",
    "data.Route.value_counts()\n",
    "    \n"
   ]
  },
  {
   "cell_type": "code",
   "execution_count": null,
   "id": "a4ca45b9",
   "metadata": {
    "id": "a4ca45b9"
   },
   "outputs": [],
   "source": [
    "routes = round(data.groupby(\"Route\").size()/len(data),2)\n",
    "data.Route = data.Route.map(routes)"
   ]
  },
  {
   "cell_type": "markdown",
   "id": "a24fa216",
   "metadata": {
    "id": "a24fa216"
   },
   "source": [
    "### One Hot Encoding for Source & Destination"
   ]
  },
  {
   "cell_type": "code",
   "execution_count": null,
   "id": "ad21d9d5",
   "metadata": {
    "id": "ad21d9d5",
    "outputId": "226dacef-5374-4b6f-fcab-d0061797c9ed"
   },
   "outputs": [
    {
     "data": {
      "text/html": [
       "<div>\n",
       "<style scoped>\n",
       "    .dataframe tbody tr th:only-of-type {\n",
       "        vertical-align: middle;\n",
       "    }\n",
       "\n",
       "    .dataframe tbody tr th {\n",
       "        vertical-align: top;\n",
       "    }\n",
       "\n",
       "    .dataframe thead th {\n",
       "        text-align: right;\n",
       "    }\n",
       "</style>\n",
       "<table border=\"1\" class=\"dataframe\">\n",
       "  <thead>\n",
       "    <tr style=\"text-align: right;\">\n",
       "      <th></th>\n",
       "      <th>Airline</th>\n",
       "      <th>Route</th>\n",
       "      <th>Dep_Time</th>\n",
       "      <th>Arrival_Time</th>\n",
       "      <th>Duration</th>\n",
       "      <th>Total_Stops</th>\n",
       "      <th>Additional_Info</th>\n",
       "      <th>Price</th>\n",
       "      <th>Weekday_of_Journey</th>\n",
       "      <th>Month_of_Journey</th>\n",
       "      <th>Day_of_Journey</th>\n",
       "      <th>Source_Chennai</th>\n",
       "      <th>Source_Delhi</th>\n",
       "      <th>Source_Kolkata</th>\n",
       "      <th>Source_Mumbai</th>\n",
       "      <th>Destination_Cochin</th>\n",
       "      <th>Destination_Delhi</th>\n",
       "      <th>Destination_Hyderabad</th>\n",
       "      <th>Destination_Kolkata</th>\n",
       "    </tr>\n",
       "  </thead>\n",
       "  <tbody>\n",
       "    <tr>\n",
       "      <th>0</th>\n",
       "      <td>0.19</td>\n",
       "      <td>0.15</td>\n",
       "      <td>22</td>\n",
       "      <td>1</td>\n",
       "      <td>2.83</td>\n",
       "      <td>non-stop</td>\n",
       "      <td>0.78</td>\n",
       "      <td>3897</td>\n",
       "      <td>6</td>\n",
       "      <td>3</td>\n",
       "      <td>24</td>\n",
       "      <td>0</td>\n",
       "      <td>0</td>\n",
       "      <td>0</td>\n",
       "      <td>0</td>\n",
       "      <td>0</td>\n",
       "      <td>1</td>\n",
       "      <td>0</td>\n",
       "      <td>0</td>\n",
       "    </tr>\n",
       "    <tr>\n",
       "      <th>1</th>\n",
       "      <td>0.16</td>\n",
       "      <td>0.26</td>\n",
       "      <td>5</td>\n",
       "      <td>13</td>\n",
       "      <td>7.42</td>\n",
       "      <td>2 stops</td>\n",
       "      <td>0.78</td>\n",
       "      <td>7662</td>\n",
       "      <td>5</td>\n",
       "      <td>1</td>\n",
       "      <td>5</td>\n",
       "      <td>0</td>\n",
       "      <td>0</td>\n",
       "      <td>1</td>\n",
       "      <td>0</td>\n",
       "      <td>0</td>\n",
       "      <td>0</td>\n",
       "      <td>0</td>\n",
       "      <td>0</td>\n",
       "    </tr>\n",
       "    <tr>\n",
       "      <th>2</th>\n",
       "      <td>0.36</td>\n",
       "      <td>0.26</td>\n",
       "      <td>9</td>\n",
       "      <td>4</td>\n",
       "      <td>19.00</td>\n",
       "      <td>2 stops</td>\n",
       "      <td>0.78</td>\n",
       "      <td>13882</td>\n",
       "      <td>4</td>\n",
       "      <td>9</td>\n",
       "      <td>6</td>\n",
       "      <td>0</td>\n",
       "      <td>1</td>\n",
       "      <td>0</td>\n",
       "      <td>0</td>\n",
       "      <td>1</td>\n",
       "      <td>0</td>\n",
       "      <td>0</td>\n",
       "      <td>0</td>\n",
       "    </tr>\n",
       "    <tr>\n",
       "      <th>3</th>\n",
       "      <td>0.19</td>\n",
       "      <td>0.26</td>\n",
       "      <td>18</td>\n",
       "      <td>23</td>\n",
       "      <td>5.42</td>\n",
       "      <td>1 stop</td>\n",
       "      <td>0.78</td>\n",
       "      <td>6218</td>\n",
       "      <td>3</td>\n",
       "      <td>12</td>\n",
       "      <td>5</td>\n",
       "      <td>0</td>\n",
       "      <td>0</td>\n",
       "      <td>1</td>\n",
       "      <td>0</td>\n",
       "      <td>0</td>\n",
       "      <td>0</td>\n",
       "      <td>0</td>\n",
       "      <td>0</td>\n",
       "    </tr>\n",
       "    <tr>\n",
       "      <th>4</th>\n",
       "      <td>0.19</td>\n",
       "      <td>0.26</td>\n",
       "      <td>16</td>\n",
       "      <td>21</td>\n",
       "      <td>4.75</td>\n",
       "      <td>1 stop</td>\n",
       "      <td>0.78</td>\n",
       "      <td>13302</td>\n",
       "      <td>3</td>\n",
       "      <td>1</td>\n",
       "      <td>3</td>\n",
       "      <td>0</td>\n",
       "      <td>0</td>\n",
       "      <td>0</td>\n",
       "      <td>0</td>\n",
       "      <td>0</td>\n",
       "      <td>1</td>\n",
       "      <td>0</td>\n",
       "      <td>0</td>\n",
       "    </tr>\n",
       "  </tbody>\n",
       "</table>\n",
       "</div>"
      ],
      "text/plain": [
       "   Airline  Route  Dep_Time  Arrival_Time  Duration Total_Stops  \\\n",
       "0     0.19   0.15        22             1      2.83    non-stop   \n",
       "1     0.16   0.26         5            13      7.42     2 stops   \n",
       "2     0.36   0.26         9             4     19.00     2 stops   \n",
       "3     0.19   0.26        18            23      5.42      1 stop   \n",
       "4     0.19   0.26        16            21      4.75      1 stop   \n",
       "\n",
       "   Additional_Info  Price  Weekday_of_Journey  Month_of_Journey  \\\n",
       "0             0.78   3897                   6                 3   \n",
       "1             0.78   7662                   5                 1   \n",
       "2             0.78  13882                   4                 9   \n",
       "3             0.78   6218                   3                12   \n",
       "4             0.78  13302                   3                 1   \n",
       "\n",
       "   Day_of_Journey  Source_Chennai  Source_Delhi  Source_Kolkata  \\\n",
       "0              24               0             0               0   \n",
       "1               5               0             0               1   \n",
       "2               6               0             1               0   \n",
       "3               5               0             0               1   \n",
       "4               3               0             0               0   \n",
       "\n",
       "   Source_Mumbai  Destination_Cochin  Destination_Delhi  \\\n",
       "0              0                   0                  1   \n",
       "1              0                   0                  0   \n",
       "2              0                   1                  0   \n",
       "3              0                   0                  0   \n",
       "4              0                   0                  1   \n",
       "\n",
       "   Destination_Hyderabad  Destination_Kolkata  \n",
       "0                      0                    0  \n",
       "1                      0                    0  \n",
       "2                      0                    0  \n",
       "3                      0                    0  \n",
       "4                      0                    0  "
      ]
     },
     "execution_count": 47,
     "metadata": {},
     "output_type": "execute_result"
    }
   ],
   "source": [
    "data = pd.get_dummies(data,columns = [\"Source\", \"Destination\"], prefix= [\"Source\", \"Destination\"],drop_first=True)\n",
    "data.head()"
   ]
  },
  {
   "cell_type": "markdown",
   "id": "342322a0",
   "metadata": {
    "id": "342322a0"
   },
   "source": [
    "### Manual Encoding for Total_Stops\n"
   ]
  },
  {
   "cell_type": "code",
   "execution_count": null,
   "id": "98fd2263",
   "metadata": {
    "id": "98fd2263",
    "outputId": "ecf5e2fb-7f1b-4087-d07c-245e5f145563"
   },
   "outputs": [
    {
     "data": {
      "text/plain": [
       "array(['non-stop', '2 stops', '1 stop', '3 stops', '4 stops'],\n",
       "      dtype=object)"
      ]
     },
     "execution_count": 48,
     "metadata": {},
     "output_type": "execute_result"
    }
   ],
   "source": [
    "data.Total_Stops.unique()"
   ]
  },
  {
   "cell_type": "code",
   "execution_count": null,
   "id": "b5d382ee",
   "metadata": {
    "id": "b5d382ee",
    "outputId": "cbdcfe75-4aa6-414b-dddf-b34b59268079"
   },
   "outputs": [
    {
     "data": {
      "text/html": [
       "<div>\n",
       "<style scoped>\n",
       "    .dataframe tbody tr th:only-of-type {\n",
       "        vertical-align: middle;\n",
       "    }\n",
       "\n",
       "    .dataframe tbody tr th {\n",
       "        vertical-align: top;\n",
       "    }\n",
       "\n",
       "    .dataframe thead th {\n",
       "        text-align: right;\n",
       "    }\n",
       "</style>\n",
       "<table border=\"1\" class=\"dataframe\">\n",
       "  <thead>\n",
       "    <tr style=\"text-align: right;\">\n",
       "      <th></th>\n",
       "      <th>Airline</th>\n",
       "      <th>Route</th>\n",
       "      <th>Dep_Time</th>\n",
       "      <th>Arrival_Time</th>\n",
       "      <th>Duration</th>\n",
       "      <th>Total_Stops</th>\n",
       "      <th>Additional_Info</th>\n",
       "      <th>Price</th>\n",
       "      <th>Weekday_of_Journey</th>\n",
       "      <th>Month_of_Journey</th>\n",
       "      <th>Day_of_Journey</th>\n",
       "      <th>Source_Chennai</th>\n",
       "      <th>Source_Delhi</th>\n",
       "      <th>Source_Kolkata</th>\n",
       "      <th>Source_Mumbai</th>\n",
       "      <th>Destination_Cochin</th>\n",
       "      <th>Destination_Delhi</th>\n",
       "      <th>Destination_Hyderabad</th>\n",
       "      <th>Destination_Kolkata</th>\n",
       "    </tr>\n",
       "  </thead>\n",
       "  <tbody>\n",
       "    <tr>\n",
       "      <th>0</th>\n",
       "      <td>0.19</td>\n",
       "      <td>0.15</td>\n",
       "      <td>22</td>\n",
       "      <td>1</td>\n",
       "      <td>2.83</td>\n",
       "      <td>0</td>\n",
       "      <td>0.78</td>\n",
       "      <td>3897</td>\n",
       "      <td>6</td>\n",
       "      <td>3</td>\n",
       "      <td>24</td>\n",
       "      <td>0</td>\n",
       "      <td>0</td>\n",
       "      <td>0</td>\n",
       "      <td>0</td>\n",
       "      <td>0</td>\n",
       "      <td>1</td>\n",
       "      <td>0</td>\n",
       "      <td>0</td>\n",
       "    </tr>\n",
       "    <tr>\n",
       "      <th>1</th>\n",
       "      <td>0.16</td>\n",
       "      <td>0.26</td>\n",
       "      <td>5</td>\n",
       "      <td>13</td>\n",
       "      <td>7.42</td>\n",
       "      <td>2</td>\n",
       "      <td>0.78</td>\n",
       "      <td>7662</td>\n",
       "      <td>5</td>\n",
       "      <td>1</td>\n",
       "      <td>5</td>\n",
       "      <td>0</td>\n",
       "      <td>0</td>\n",
       "      <td>1</td>\n",
       "      <td>0</td>\n",
       "      <td>0</td>\n",
       "      <td>0</td>\n",
       "      <td>0</td>\n",
       "      <td>0</td>\n",
       "    </tr>\n",
       "    <tr>\n",
       "      <th>2</th>\n",
       "      <td>0.36</td>\n",
       "      <td>0.26</td>\n",
       "      <td>9</td>\n",
       "      <td>4</td>\n",
       "      <td>19.00</td>\n",
       "      <td>2</td>\n",
       "      <td>0.78</td>\n",
       "      <td>13882</td>\n",
       "      <td>4</td>\n",
       "      <td>9</td>\n",
       "      <td>6</td>\n",
       "      <td>0</td>\n",
       "      <td>1</td>\n",
       "      <td>0</td>\n",
       "      <td>0</td>\n",
       "      <td>1</td>\n",
       "      <td>0</td>\n",
       "      <td>0</td>\n",
       "      <td>0</td>\n",
       "    </tr>\n",
       "    <tr>\n",
       "      <th>3</th>\n",
       "      <td>0.19</td>\n",
       "      <td>0.26</td>\n",
       "      <td>18</td>\n",
       "      <td>23</td>\n",
       "      <td>5.42</td>\n",
       "      <td>1</td>\n",
       "      <td>0.78</td>\n",
       "      <td>6218</td>\n",
       "      <td>3</td>\n",
       "      <td>12</td>\n",
       "      <td>5</td>\n",
       "      <td>0</td>\n",
       "      <td>0</td>\n",
       "      <td>1</td>\n",
       "      <td>0</td>\n",
       "      <td>0</td>\n",
       "      <td>0</td>\n",
       "      <td>0</td>\n",
       "      <td>0</td>\n",
       "    </tr>\n",
       "    <tr>\n",
       "      <th>4</th>\n",
       "      <td>0.19</td>\n",
       "      <td>0.26</td>\n",
       "      <td>16</td>\n",
       "      <td>21</td>\n",
       "      <td>4.75</td>\n",
       "      <td>1</td>\n",
       "      <td>0.78</td>\n",
       "      <td>13302</td>\n",
       "      <td>3</td>\n",
       "      <td>1</td>\n",
       "      <td>3</td>\n",
       "      <td>0</td>\n",
       "      <td>0</td>\n",
       "      <td>0</td>\n",
       "      <td>0</td>\n",
       "      <td>0</td>\n",
       "      <td>1</td>\n",
       "      <td>0</td>\n",
       "      <td>0</td>\n",
       "    </tr>\n",
       "  </tbody>\n",
       "</table>\n",
       "</div>"
      ],
      "text/plain": [
       "   Airline  Route  Dep_Time  Arrival_Time  Duration  Total_Stops  \\\n",
       "0     0.19   0.15        22             1      2.83            0   \n",
       "1     0.16   0.26         5            13      7.42            2   \n",
       "2     0.36   0.26         9             4     19.00            2   \n",
       "3     0.19   0.26        18            23      5.42            1   \n",
       "4     0.19   0.26        16            21      4.75            1   \n",
       "\n",
       "   Additional_Info  Price  Weekday_of_Journey  Month_of_Journey  \\\n",
       "0             0.78   3897                   6                 3   \n",
       "1             0.78   7662                   5                 1   \n",
       "2             0.78  13882                   4                 9   \n",
       "3             0.78   6218                   3                12   \n",
       "4             0.78  13302                   3                 1   \n",
       "\n",
       "   Day_of_Journey  Source_Chennai  Source_Delhi  Source_Kolkata  \\\n",
       "0              24               0             0               0   \n",
       "1               5               0             0               1   \n",
       "2               6               0             1               0   \n",
       "3               5               0             0               1   \n",
       "4               3               0             0               0   \n",
       "\n",
       "   Source_Mumbai  Destination_Cochin  Destination_Delhi  \\\n",
       "0              0                   0                  1   \n",
       "1              0                   0                  0   \n",
       "2              0                   1                  0   \n",
       "3              0                   0                  0   \n",
       "4              0                   0                  1   \n",
       "\n",
       "   Destination_Hyderabad  Destination_Kolkata  \n",
       "0                      0                    0  \n",
       "1                      0                    0  \n",
       "2                      0                    0  \n",
       "3                      0                    0  \n",
       "4                      0                    0  "
      ]
     },
     "execution_count": 49,
     "metadata": {},
     "output_type": "execute_result"
    }
   ],
   "source": [
    "data.Total_Stops = data.Total_Stops.map({'non-stop':0, '2 stops':2, '1 stop':1, '3 stops':3, '4 stops':4})\n",
    "data.head()"
   ]
  },
  {
   "cell_type": "markdown",
   "id": "ab16b54a",
   "metadata": {
    "id": "ab16b54a"
   },
   "source": [
    "## Feature Selection"
   ]
  },
  {
   "cell_type": "code",
   "execution_count": null,
   "id": "607a6dec",
   "metadata": {
    "id": "607a6dec",
    "outputId": "1e3e7fe9-9f5e-4c56-a60a-3838678bbc03"
   },
   "outputs": [
    {
     "data": {
      "text/plain": [
       "<AxesSubplot:>"
      ]
     },
     "execution_count": 50,
     "metadata": {},
     "output_type": "execute_result"
    },
    {
     "data": {
      "image/png": "[encoded data removed]",
      "text/plain": [
       "<Figure size 1152x1008 with 2 Axes>"
      ]
     },
     "metadata": {
      "needs_background": "light"
     },
     "output_type": "display_data"
    }
   ],
   "source": [
    "plt.figure(figsize=(16,14))\n",
    "sns.heatmap(data.drop(\"Price\", axis=1).corr(), annot=True)"
   ]
  },
  {
   "cell_type": "markdown",
   "id": "d237a8e0",
   "metadata": {
    "id": "d237a8e0"
   },
   "source": [
    "There are no highly correlated, constant or unique value features."
   ]
  },
  {
   "cell_type": "code",
   "execution_count": null,
   "id": "63a5da93",
   "metadata": {
    "id": "63a5da93",
    "outputId": "39aab568-7ae5-470f-e193-afa20c86eeb6"
   },
   "outputs": [
    {
     "data": {
      "text/html": [
       "<div>\n",
       "<style scoped>\n",
       "    .dataframe tbody tr th:only-of-type {\n",
       "        vertical-align: middle;\n",
       "    }\n",
       "\n",
       "    .dataframe tbody tr th {\n",
       "        vertical-align: top;\n",
       "    }\n",
       "\n",
       "    .dataframe thead th {\n",
       "        text-align: right;\n",
       "    }\n",
       "</style>\n",
       "<table border=\"1\" class=\"dataframe\">\n",
       "  <thead>\n",
       "    <tr style=\"text-align: right;\">\n",
       "      <th></th>\n",
       "      <th>Airline</th>\n",
       "      <th>Route</th>\n",
       "      <th>Dep_Time</th>\n",
       "      <th>Arrival_Time</th>\n",
       "      <th>Duration</th>\n",
       "      <th>Total_Stops</th>\n",
       "      <th>Additional_Info</th>\n",
       "      <th>Price</th>\n",
       "      <th>Weekday_of_Journey</th>\n",
       "      <th>Month_of_Journey</th>\n",
       "      <th>Day_of_Journey</th>\n",
       "      <th>Source_Chennai</th>\n",
       "      <th>Source_Delhi</th>\n",
       "      <th>Source_Kolkata</th>\n",
       "      <th>Source_Mumbai</th>\n",
       "      <th>Destination_Cochin</th>\n",
       "      <th>Destination_Delhi</th>\n",
       "      <th>Destination_Hyderabad</th>\n",
       "      <th>Destination_Kolkata</th>\n",
       "    </tr>\n",
       "  </thead>\n",
       "  <tbody>\n",
       "    <tr>\n",
       "      <th>0</th>\n",
       "      <td>0.19</td>\n",
       "      <td>0.15</td>\n",
       "      <td>22</td>\n",
       "      <td>1</td>\n",
       "      <td>2.83</td>\n",
       "      <td>0</td>\n",
       "      <td>0.78</td>\n",
       "      <td>3897</td>\n",
       "      <td>6</td>\n",
       "      <td>3</td>\n",
       "      <td>24</td>\n",
       "      <td>0</td>\n",
       "      <td>0</td>\n",
       "      <td>0</td>\n",
       "      <td>0</td>\n",
       "      <td>0</td>\n",
       "      <td>1</td>\n",
       "      <td>0</td>\n",
       "      <td>0</td>\n",
       "    </tr>\n",
       "    <tr>\n",
       "      <th>1</th>\n",
       "      <td>0.16</td>\n",
       "      <td>0.26</td>\n",
       "      <td>5</td>\n",
       "      <td>13</td>\n",
       "      <td>7.42</td>\n",
       "      <td>2</td>\n",
       "      <td>0.78</td>\n",
       "      <td>7662</td>\n",
       "      <td>5</td>\n",
       "      <td>1</td>\n",
       "      <td>5</td>\n",
       "      <td>0</td>\n",
       "      <td>0</td>\n",
       "      <td>1</td>\n",
       "      <td>0</td>\n",
       "      <td>0</td>\n",
       "      <td>0</td>\n",
       "      <td>0</td>\n",
       "      <td>0</td>\n",
       "    </tr>\n",
       "    <tr>\n",
       "      <th>2</th>\n",
       "      <td>0.36</td>\n",
       "      <td>0.26</td>\n",
       "      <td>9</td>\n",
       "      <td>4</td>\n",
       "      <td>19.00</td>\n",
       "      <td>2</td>\n",
       "      <td>0.78</td>\n",
       "      <td>13882</td>\n",
       "      <td>4</td>\n",
       "      <td>9</td>\n",
       "      <td>6</td>\n",
       "      <td>0</td>\n",
       "      <td>1</td>\n",
       "      <td>0</td>\n",
       "      <td>0</td>\n",
       "      <td>1</td>\n",
       "      <td>0</td>\n",
       "      <td>0</td>\n",
       "      <td>0</td>\n",
       "    </tr>\n",
       "    <tr>\n",
       "      <th>3</th>\n",
       "      <td>0.19</td>\n",
       "      <td>0.26</td>\n",
       "      <td>18</td>\n",
       "      <td>23</td>\n",
       "      <td>5.42</td>\n",
       "      <td>1</td>\n",
       "      <td>0.78</td>\n",
       "      <td>6218</td>\n",
       "      <td>3</td>\n",
       "      <td>12</td>\n",
       "      <td>5</td>\n",
       "      <td>0</td>\n",
       "      <td>0</td>\n",
       "      <td>1</td>\n",
       "      <td>0</td>\n",
       "      <td>0</td>\n",
       "      <td>0</td>\n",
       "      <td>0</td>\n",
       "      <td>0</td>\n",
       "    </tr>\n",
       "    <tr>\n",
       "      <th>4</th>\n",
       "      <td>0.19</td>\n",
       "      <td>0.26</td>\n",
       "      <td>16</td>\n",
       "      <td>21</td>\n",
       "      <td>4.75</td>\n",
       "      <td>1</td>\n",
       "      <td>0.78</td>\n",
       "      <td>13302</td>\n",
       "      <td>3</td>\n",
       "      <td>1</td>\n",
       "      <td>3</td>\n",
       "      <td>0</td>\n",
       "      <td>0</td>\n",
       "      <td>0</td>\n",
       "      <td>0</td>\n",
       "      <td>0</td>\n",
       "      <td>1</td>\n",
       "      <td>0</td>\n",
       "      <td>0</td>\n",
       "    </tr>\n",
       "  </tbody>\n",
       "</table>\n",
       "</div>"
      ],
      "text/plain": [
       "   Airline  Route  Dep_Time  Arrival_Time  Duration  Total_Stops  \\\n",
       "0     0.19   0.15        22             1      2.83            0   \n",
       "1     0.16   0.26         5            13      7.42            2   \n",
       "2     0.36   0.26         9             4     19.00            2   \n",
       "3     0.19   0.26        18            23      5.42            1   \n",
       "4     0.19   0.26        16            21      4.75            1   \n",
       "\n",
       "   Additional_Info  Price  Weekday_of_Journey  Month_of_Journey  \\\n",
       "0             0.78   3897                   6                 3   \n",
       "1             0.78   7662                   5                 1   \n",
       "2             0.78  13882                   4                 9   \n",
       "3             0.78   6218                   3                12   \n",
       "4             0.78  13302                   3                 1   \n",
       "\n",
       "   Day_of_Journey  Source_Chennai  Source_Delhi  Source_Kolkata  \\\n",
       "0              24               0             0               0   \n",
       "1               5               0             0               1   \n",
       "2               6               0             1               0   \n",
       "3               5               0             0               1   \n",
       "4               3               0             0               0   \n",
       "\n",
       "   Source_Mumbai  Destination_Cochin  Destination_Delhi  \\\n",
       "0              0                   0                  1   \n",
       "1              0                   0                  0   \n",
       "2              0                   1                  0   \n",
       "3              0                   0                  0   \n",
       "4              0                   0                  1   \n",
       "\n",
       "   Destination_Hyderabad  Destination_Kolkata  \n",
       "0                      0                    0  \n",
       "1                      0                    0  \n",
       "2                      0                    0  \n",
       "3                      0                    0  \n",
       "4                      0                    0  "
      ]
     },
     "execution_count": 51,
     "metadata": {},
     "output_type": "execute_result"
    }
   ],
   "source": [
    "data.head()"
   ]
  },
  {
   "cell_type": "markdown",
   "id": "1a091a28",
   "metadata": {
    "id": "1a091a28"
   },
   "source": [
    "## The model doesn't need Feature Scaling"
   ]
  },
  {
   "cell_type": "markdown",
   "id": "ffe4b24d",
   "metadata": {
    "id": "ffe4b24d"
   },
   "source": [
    "# Model Creation"
   ]
  },
  {
   "cell_type": "markdown",
   "id": "26993b00",
   "metadata": {
    "id": "26993b00"
   },
   "source": [
    "## Splitting the Dataset"
   ]
  },
  {
   "cell_type": "code",
   "execution_count": null,
   "id": "b0f8215a",
   "metadata": {
    "id": "b0f8215a"
   },
   "outputs": [],
   "source": [
    "X = data.drop(\"Price\", axis= 1)\n",
    "y=data.Price"
   ]
  },
  {
   "cell_type": "code",
   "execution_count": null,
   "id": "c807372d",
   "metadata": {
    "id": "c807372d"
   },
   "outputs": [],
   "source": [
    "from sklearn.model_selection import train_test_split\n",
    "X_train, X_test, y_train, y_test = train_test_split(X, y, test_size=0.25, random_state=42)"
   ]
  },
  {
   "cell_type": "code",
   "execution_count": null,
   "id": "d49c1b7c",
   "metadata": {
    "id": "d49c1b7c"
   },
   "outputs": [],
   "source": [
    "from sklearn.ensemble import RandomForestRegressor\n",
    "\n",
    "model = RandomForestRegressor()\n",
    "model.fit(X_train,y_train)\n",
    "y_pred= model.predict(X_test)"
   ]
  },
  {
   "cell_type": "markdown",
   "id": "8f4accd4",
   "metadata": {
    "id": "8f4accd4"
   },
   "source": [
    "## Model Evaluation"
   ]
  },
  {
   "cell_type": "code",
   "execution_count": null,
   "id": "0a7a3511",
   "metadata": {
    "id": "0a7a3511",
    "outputId": "840b42af-31ce-4e67-e020-0d95b41168fd"
   },
   "outputs": [
    {
     "data": {
      "text/plain": [
       "1482.924729549502"
      ]
     },
     "execution_count": 55,
     "metadata": {},
     "output_type": "execute_result"
    }
   ],
   "source": [
    "from sklearn.metrics import mean_squared_error, r2_score, mean_absolute_error\n",
    "rmse = mean_squared_error(y_test,y_pred, squared=False)\n",
    "rmse"
   ]
  },
  {
   "cell_type": "code",
   "execution_count": null,
   "id": "ca078ff3",
   "metadata": {
    "id": "ca078ff3",
    "outputId": "adca0d34-5b1a-4d82-de81-1efed5c26dc6"
   },
   "outputs": [
    {
     "data": {
      "text/plain": [
       "666.3981138685351"
      ]
     },
     "execution_count": 56,
     "metadata": {},
     "output_type": "execute_result"
    }
   ],
   "source": [
    "mae = mean_absolute_error(y_test,y_pred)\n",
    "mae"
   ]
  },
  {
   "cell_type": "code",
   "execution_count": null,
   "id": "9760d608",
   "metadata": {
    "id": "9760d608"
   },
   "outputs": [],
   "source": [
    "predictions = pd.DataFrame({\"y_test\":y_test, \"y_pred\":y_pred})\n",
    "predictions"
   ]
  },
  {
   "cell_type": "code",
   "execution_count": null,
   "id": "110a4217",
   "metadata": {
    "id": "110a4217",
    "outputId": "9dd6b013-726e-44c6-ed3c-c06f2d945a80"
   },
   "outputs": [
    {
     "data": {
      "text/plain": [
       "19"
      ]
     },
     "execution_count": 58,
     "metadata": {},
     "output_type": "execute_result"
    }
   ],
   "source": [
    "N=len(data)\n",
    "len(data.columns)\n"
   ]
  },
  {
   "cell_type": "code",
   "execution_count": null,
   "id": "0fb5ef28",
   "metadata": {
    "id": "0fb5ef28",
    "outputId": "b1aff8a2-c39c-4669-90de-9dc65c54d026"
   },
   "outputs": [
    {
     "name": "stdout",
     "output_type": "stream",
     "text": [
      "r2: 0.8935238585779252\n",
      "adjusted_r2: 0.8933340971402534\n"
     ]
    }
   ],
   "source": [
    "r2= r2_score(y_test,y_pred)\n",
    "adjusted_r2= 1 - (1-r2)*(N-1)/(N-19-1)\n",
    "print(f\"r2: {r2}\\nadjusted_r2: {adjusted_r2}\")"
   ]
  },
  {
   "cell_type": "code",
   "execution_count": null,
   "id": "9799aff1",
   "metadata": {
    "id": "9799aff1",
    "outputId": "70df5901-b19a-4fb8-bbc3-5ed346f8ee8a"
   },
   "outputs": [
    {
     "name": "stdout",
     "output_type": "stream",
     "text": [
      "r2_train: 0.9762406631684963\n",
      "adjusted_r2_train: 0.9761983193546141\n"
     ]
    }
   ],
   "source": [
    "\n",
    "y_train_pred= model.predict(X_train)\n",
    "r2_train= r2_score(y_train,y_train_pred)\n",
    "adjusted_r2_train= 1 - (1-r2_train)*(N-1)/(N-19-1)\n",
    "print(f\"r2_train: {r2_train}\\nadjusted_r2_train: {adjusted_r2_train}\")"
   ]
  },
  {
   "cell_type": "markdown",
   "id": "d71bb042",
   "metadata": {
    "id": "d71bb042"
   },
   "source": [
    "- The root mean squred error value for our model is ~1503 and mae is 670. Our aim is to minimize these value. The lower the rmse and mae the better the model.\n",
    "-There is an insignificant difference between r2 and adjusted r2score.\n",
    "- The r2 score for the training data is 0.97 which is indicative of an overfitted model.\n",
    "-The r2 score for the test data is 0.89 which is a good score."
   ]
  },
  {
   "cell_type": "code",
   "execution_count": null,
   "id": "6aaa2bb5",
   "metadata": {
    "id": "6aaa2bb5",
    "outputId": "53b1ff9d-1dee-4909-f0fc-fe643ae7e4b0"
   },
   "outputs": [
    {
     "name": "stdout",
     "output_type": "stream",
     "text": [
      "[0.86522375 0.87647759 0.85631534 0.88560489 0.92011816 0.859721\n",
      " 0.88917034 0.92014604 0.89661445 0.75050173]\n",
      "Cross validation Score: 0.871989329337025\n",
      "Std : 0.04576435289182067\n"
     ]
    }
   ],
   "source": [
    "from sklearn.model_selection import cross_val_score\n",
    "\n",
    "RF_crossval_score = cross_val_score(model,X,y,cv=10,scoring='r2')\n",
    "print(RF_crossval_score)\n",
    "print(\"Cross validation Score:\",RF_crossval_score.mean())\n",
    "print(\"Std :\",RF_crossval_score.std())\n",
    "#std of < 0.05 is good. "
   ]
  },
  {
   "cell_type": "markdown",
   "id": "27dd0500",
   "metadata": {
    "id": "27dd0500"
   },
   "source": [
    "#### The cross-validation score using 10 folds obtained for the Random Forest model is 0.87 with a std of 0.04"
   ]
  },
  {
   "cell_type": "markdown",
   "id": "982145cb",
   "metadata": {
    "id": "982145cb"
   },
   "source": [
    "## Model Selection\n",
    "\n",
    "After applying 3 different models (notebook containing detailed model building present in folder) to the dataset we have the following average cross validation scores-\n",
    "- KNN Regressor- 0.57\n",
    "- Linear Regression - 0.51\n",
    "- Random Forest - 0.87\n",
    "\n",
    "\n",
    "Clearly Random Forest performs the best so we will move on to hyperparameter tuning for this model."
   ]
  },
  {
   "cell_type": "markdown",
   "id": "4fbda294",
   "metadata": {
    "id": "4fbda294"
   },
   "source": [
    "## Hyperparameter Tuning"
   ]
  },
  {
   "cell_type": "code",
   "execution_count": null,
   "id": "eb0f1f18",
   "metadata": {
    "id": "eb0f1f18",
    "outputId": "74262622-f611-4d48-ec72-2d409da40f4a"
   },
   "outputs": [
    {
     "name": "stdout",
     "output_type": "stream",
     "text": [
      "Fitting 3 folds for each of 10 candidates, totalling 30 fits\n",
      "Best Params: {'n_estimators': 300, 'min_samples_split': 18, 'min_samples_leaf': 3, 'max_depth': 20, 'criterion': 'squared_error', 'bootstrap': True}\n",
      "Best Estimator: RandomForestRegressor(max_depth=20, min_samples_leaf=3, min_samples_split=18,\n",
      "                      n_estimators=300)\n"
     ]
    }
   ],
   "source": [
    "# from sklearn.model_selection import RandomizedSearchCV\n",
    "\n",
    "# params={'n_estimators': list(range(100,1000,200)), \n",
    "#         'criterion':['squared_error'],\n",
    "#         'max_depth': list(range(5,21,5)), \n",
    "#         'min_samples_split': list(range(3,21,5)),\n",
    "#         'min_samples_leaf': list(range(3,21,5)), \n",
    "#         'bootstrap': [True, False]   \n",
    "# }\n",
    "\n",
    "# RF_cv = RandomizedSearchCV(model,params, n_jobs=-1, verbose=1, scoring=\"r2\",cv=3)\n",
    "# RF_cv.fit(X,y)\n",
    "# print(f\"Best Params: {RF_cv.best_params_}\\nBest Estimator: {RF_cv.best_estimator_}\")"
   ]
  },
  {
   "cell_type": "code",
   "execution_count": null,
   "id": "e0020e1a",
   "metadata": {
    "id": "e0020e1a"
   },
   "outputs": [],
   "source": [
    "model_2 = RandomForestRegressor(max_depth=20, min_samples_leaf=3, min_samples_split=18,\n",
    "                      n_estimators=300)\n",
    "model_2.fit(X_train,y_train)\n",
    "y_pred= model_2.predict(X_test)"
   ]
  },
  {
   "cell_type": "code",
   "execution_count": null,
   "id": "a2d389b0",
   "metadata": {
    "id": "a2d389b0",
    "outputId": "1feeebe9-cbd3-45d6-dc39-f0795cba2097"
   },
   "outputs": [
    {
     "name": "stdout",
     "output_type": "stream",
     "text": [
      "Root Mean Squared error: 1603.1249634398478\n",
      "Mean Absolute Error: 791.0476647967561\n"
     ]
    }
   ],
   "source": [
    "from sklearn.metrics import mean_squared_error, r2_score, mean_absolute_error\n",
    "rmse = mean_squared_error(y_test,y_pred, squared=False)\n",
    "mae = mean_absolute_error(y_test,y_pred)\n",
    "print(f\"Root Mean Squared error: {rmse}\\nMean Absolute Error: {mae}\")"
   ]
  },
  {
   "cell_type": "code",
   "execution_count": null,
   "id": "aefebe6a",
   "metadata": {
    "id": "aefebe6a",
    "outputId": "4d82e017-a0c6-4873-dbec-d300eadf6aca"
   },
   "outputs": [
    {
     "name": "stdout",
     "output_type": "stream",
     "text": [
      "r2: 0.8755631975338363\n",
      "adjusted_r2: 0.8753414266636687\n"
     ]
    }
   ],
   "source": [
    "r2= r2_score(y_test,y_pred)\n",
    "adjusted_r2= 1 - (1-r2)*(N-1)/(N-19-1)\n",
    "print(f\"r2: {r2}\\nadjusted_r2: {adjusted_r2}\")"
   ]
  },
  {
   "cell_type": "code",
   "execution_count": null,
   "id": "d17aac4a",
   "metadata": {
    "id": "d17aac4a",
    "outputId": "2176b6f2-12cd-4456-f93a-be7c2c2f7d21"
   },
   "outputs": [
    {
     "name": "stdout",
     "output_type": "stream",
     "text": [
      "r2_train: 0.8994371074753023\n",
      "adjusted_r2_train: 0.8992578846108459\n"
     ]
    }
   ],
   "source": [
    "\n",
    "y_train_pred= model_2.predict(X_train)\n",
    "r2_train= r2_score(y_train,y_train_pred)\n",
    "adjusted_r2_train= 1 - (1-r2_train)*(N-1)/(N-19-1)\n",
    "print(f\"r2_train: {r2_train}\\nadjusted_r2_train: {adjusted_r2_train}\")"
   ]
  },
  {
   "cell_type": "code",
   "execution_count": null,
   "id": "786001af",
   "metadata": {
    "id": "786001af",
    "outputId": "66126ed7-7ed3-46f0-846b-6fa1bb7d5fea",
    "scrolled": true
   },
   "outputs": [
    {
     "name": "stdout",
     "output_type": "stream",
     "text": [
      "[0.87818374 0.86021051 0.80847113 0.8938831  0.91213327 0.8697477\n",
      " 0.86912941 0.88764341 0.89730703 0.76420424]\n",
      "Cross validation Score: 0.8640913545791982\n",
      "Std : 0.04265633760539243\n"
     ]
    }
   ],
   "source": [
    "from sklearn.model_selection import cross_val_score\n",
    "\n",
    "RF_crossval_score = cross_val_score(model_2,X,y,cv=10,scoring='r2')\n",
    "print(RF_crossval_score)\n",
    "print(\"Cross validation Score:\",RF_crossval_score.mean())\n",
    "print(\"Std :\",RF_crossval_score.std())\n",
    "#std of < 0.05 is good. "
   ]
  },
  {
   "cell_type": "markdown",
   "id": "1a43fb73",
   "metadata": {
    "id": "1a43fb73"
   },
   "source": [
    "#### Model 2 Performance: Best Estimator: RandomForestRegressor(max_depth=20, min_samples_leaf=3, min_samples_split=18,n_estimators=300)\n",
    "   - Root Mean Squared error: 1606.77\n",
    "   - Mean Absolute Error: 789.61\n",
    "   - Testing r2: 0.874\n",
    "   - r2_train: 0.89\n",
    "   - 10 fold Cross validation Score: 0.86 with std 0.04\n",
    "\n"
   ]
  },
  {
   "cell_type": "code",
   "execution_count": null,
   "id": "7d4870c8",
   "metadata": {
    "id": "7d4870c8",
    "outputId": "96e616ca-3707-42de-fa5e-998b160024ae"
   },
   "outputs": [
    {
     "name": "stdout",
     "output_type": "stream",
     "text": [
      "Fitting 3 folds for each of 252 candidates, totalling 756 fits\n",
      "Best Params: {'bootstrap': True, 'criterion': 'squared_error', 'max_depth': 11, 'min_samples_leaf': 6, 'min_samples_split': 6, 'n_estimators': 400}\n",
      "Best Estimator: RandomForestRegressor(max_depth=11, min_samples_leaf=6, min_samples_split=6,\n",
      "                      n_estimators=400)\n"
     ]
    }
   ],
   "source": [
    "# from sklearn.model_selection import GridSearchCV\n",
    "\n",
    "# params={'n_estimators': list(range(100,800,100)), \n",
    "#         'criterion':['squared_error'],\n",
    "#         'max_depth': list(range(8,12)), \n",
    "#         'min_samples_split': list(range(6,12,2)),\n",
    "#         'min_samples_leaf': list(range(6,12,2)), \n",
    "#         'bootstrap': [True]   \n",
    "# }\n",
    "\n",
    "# RF_cv_2 = GridSearchCV(model,params, n_jobs=-1, verbose=1, scoring=\"r2\",cv=3)\n",
    "# RF_cv_2.fit(X,y)\n",
    "# print(f\"Best Params: {RF_cv_2.best_params_}\\nBest Estimator: {RF_cv_2.best_estimator_}\")"
   ]
  },
  {
   "cell_type": "code",
   "execution_count": null,
   "id": "b4df8b98",
   "metadata": {
    "id": "b4df8b98",
    "outputId": "593f5be9-8bd3-4ed3-82b1-fabbb5bf5f39"
   },
   "outputs": [
    {
     "name": "stdout",
     "output_type": "stream",
     "text": [
      "Root Mean Squared error: 1706.0990571055913\n",
      "Mean Absolute Error: 886.2692380517365\n",
      "r2: 0.8590637943430341\n",
      "adjusted_r2: 0.8588126182894292\n",
      "r2_train: 0.8742749764208597\n",
      "adjusted_r2_train: 0.8740509096871572\n",
      "[0.84998669 0.83828962 0.79482634 0.87446205 0.89865649 0.85718318\n",
      " 0.85882629 0.86714627 0.88041301 0.75488972]\n",
      "Cross validation Score: 0.84746796629122\n",
      "Std : 0.04059237917021331\n"
     ]
    }
   ],
   "source": [
    "model_3 = RandomForestRegressor(max_depth=11, min_samples_leaf=6, min_samples_split=8,\n",
    "                      n_estimators=400)\n",
    "model_3.fit(X_train,y_train)\n",
    "y_pred= model_3.predict(X_test)\n",
    "\n",
    "rmse = mean_squared_error(y_test,y_pred, squared=False)\n",
    "mae = mean_absolute_error(y_test,y_pred)\n",
    "print(f\"Root Mean Squared error: {rmse}\\nMean Absolute Error: {mae}\")\n",
    "\n",
    "r2= r2_score(y_test,y_pred)\n",
    "adjusted_r2= 1 - (1-r2)*(N-1)/(N-19-1)\n",
    "print(f\"r2: {r2}\\nadjusted_r2: {adjusted_r2}\")\n",
    "\n",
    "y_train_pred= model_3.predict(X_train)\n",
    "r2_train= r2_score(y_train,y_train_pred)\n",
    "adjusted_r2_train= 1 - (1-r2_train)*(N-1)/(N-19-1)\n",
    "print(f\"r2_train: {r2_train}\\nadjusted_r2_train: {adjusted_r2_train}\")\n",
    "\n",
    "from sklearn.model_selection import cross_val_score\n",
    "\n",
    "RF_crossval_score = cross_val_score(model_3,X,y,cv=10,scoring='r2')\n",
    "print(RF_crossval_score)\n",
    "print(\"Cross validation Score:\",RF_crossval_score.mean())\n",
    "print(\"Std :\",RF_crossval_score.std())\n",
    "#std of < 0.05 is good. "
   ]
  },
  {
   "cell_type": "markdown",
   "id": "f49d3b3e",
   "metadata": {
    "id": "f49d3b3e"
   },
   "source": [
    "#### Model 3 Performance: Best Estimator: RandomForestRegressor(max_depth=11, min_samples_leaf=6, min_samples_split=8, n_estimators=400)\n",
    "   - Root Mean Squared error: 1704.85\n",
    "   - Mean Absolute Error: 888.025\n",
    "   - Testing r2: 0.86\n",
    "   - r2_train: 0.87\n",
    "   - 10 fold Cross validation Score: 0.847 with std 0.04"
   ]
  },
  {
   "cell_type": "markdown",
   "id": "e4c16f52",
   "metadata": {
    "id": "e4c16f52"
   },
   "source": [
    "### Conclusion\n",
    "After performing hyperparameter tuning we have the following summary of scores of the 3 RF models-\n",
    "\n",
    "#### Cross Val Scores\n",
    "  - Model 1: 0.89 (No hyperparameter tuning)\n",
    "  - Model 2: 0.86 (Hyperparameter tuning using RandomizedSearchCV)\n",
    "  - Model 3: 0.84 (Hyperparameter tuning using GridSearchCV)\n",
    "  \n",
    "Since we aim to create a generalized model, we will not select model 1 since the training r2 score was 0.97 which is indicative of an overfitted model. After tuning model 2 performs best with a testing error of 0.87 and training error of 0.89 which is a more generalised model. Thus Model 2 will be selected as our final model.\n"
   ]
  },
  {
   "cell_type": "markdown",
   "id": "fa2e0aff",
   "metadata": {
    "id": "fa2e0aff"
   },
   "source": [
    "# Storing the Model"
   ]
  },
  {
   "cell_type": "code",
   "execution_count": null,
   "id": "d8d79430",
   "metadata": {
    "id": "d8d79430"
   },
   "outputs": [],
   "source": [
    "import pickle\n",
    "file = open('random_forest_regression_final_model.pkl', 'wb') #creating the file\n",
    "\n",
    "pickle.dump(model_2, file) #storing the model in file"
   ]
  },
  {
   "cell_type": "markdown",
   "id": "fe82fb5b",
   "metadata": {
    "id": "fe82fb5b"
   },
   "source": [
    "# Feature Importance\n",
    "It refers to a class of techniques for assigning scores to input features to a predictive model that indicates the relative importance of each feature when making a prediction.\n",
    "It can help us better understand the data and model."
   ]
  },
  {
   "cell_type": "code",
   "execution_count": null,
   "id": "43c146c9",
   "metadata": {
    "id": "43c146c9"
   },
   "outputs": [],
   "source": [
    "importance = list(model_2.feature_importances_)\n",
    "columns = list(X_train.columns)"
   ]
  },
  {
   "cell_type": "code",
   "execution_count": null,
   "id": "0be7d57f",
   "metadata": {
    "id": "0be7d57f",
    "outputId": "b2959371-acb4-401a-b5a3-cea71de2f04b"
   },
   "outputs": [
    {
     "data": {
      "text/plain": [
       "Text(0.5, 1.0, 'Random Forest Feature Importance Plot')"
      ]
     },
     "execution_count": 69,
     "metadata": {},
     "output_type": "execute_result"
    },
    {
     "data": {
      "image/png": "[encoded data removed]",
      "text/plain": [
       "<Figure size 720x576 with 1 Axes>"
      ]
     },
     "metadata": {
      "needs_background": "light"
     },
     "output_type": "display_data"
    }
   ],
   "source": [
    "plt.figure(figsize=(10,8))\n",
    "sns.barplot(x= importance, y=columns)\n",
    "plt.xlabel(\"Feature Importance\")\n",
    "plt.ylabel(\"Feature\")\n",
    "plt.title(\"Random Forest Feature Importance Plot\")"
   ]
  },
  {
   "cell_type": "markdown",
   "id": "5ab0b292",
   "metadata": {
    "id": "5ab0b292"
   },
   "source": []
  }
 ],
 "metadata": {
  "colab": {
   "provenance": []
  },
  "kernelspec": {
   "display_name": "Python 3 (ipykernel)",
   "language": "python",
   "name": "python3"
  },
  "language_info": {
   "codemirror_mode": {
    "name": "ipython",
    "version": 3
   },
   "file_extension": ".py",
   "mimetype": "text/x-python",
   "name": "python",
   "nbconvert_exporter": "python",
   "pygments_lexer": "ipython3",
   "version": "3.10.9"
  }
 },
 "nbformat": 4,
 "nbformat_minor": 5
}
